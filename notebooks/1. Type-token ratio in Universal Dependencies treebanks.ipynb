{
 "cells": [
  {
   "cell_type": "markdown",
   "metadata": {},
   "source": [
    "# Type-token ratio in Universal Dependencies treebanks (1.2 updated)"
   ]
  },
  {
   "cell_type": "markdown",
   "metadata": {},
   "source": [
    "For measuring the degree of synthesis in a language, the type-token ratio has been used as a sort of latent variable. The assumption is that languages with a high degree of synthesis will have a higher type/token ratio.\n",
    "\n",
    "Here, we calculate the ratio for all languages available in the UD treebanks (1.1)."
   ]
  },
  {
   "cell_type": "code",
   "execution_count": 1,
   "metadata": {
    "collapsed": false
   },
   "outputs": [],
   "source": [
    "%matplotlib inline\n",
    "import matplotlib as mpl\n",
    "from matplotlib import pylab\n",
    "import matplotlib.pyplot as plt\n",
    "pylab.rcParams['figure.figsize'] = (10.0, 7.0)\n",
    "mpl.style.use('ggplot')\n",
    "from matplotlib.backends.backend_pgf import FigureCanvasPgf\n",
    "mpl.backend_bases.register_backend('pgf', FigureCanvasPgf)\n",
    "#mpl.rcParams.update({\"font.family\": \"Bookman\"})\n",
    "\n",
    "treebank_path = \"/Users/jimmy/dev/edu/nlp-rod/udeval/resources/universaldependencies1-2/universal-dependencies-1.2/\"\n",
    "\n",
    "# Remove warnings\n",
    "import warnings\n",
    "warnings.filterwarnings('ignore')\n",
    "\n",
    "import sys\n",
    "sys.path.append('../tools/')\n",
    "import udtree, lang_utils\n",
    "\n",
    "import pandas as pd\n",
    "\n",
    "from os import listdir\n",
    "from os.path import join\n",
    "from collections import defaultdict\n",
    "\n",
    "file_format = \"conllu\"\n",
    "train_type = \"train\"\n",
    "gold_output_base = \"/Users/jimmy/dev/edu/nlp-rod/udeval/resources/universaldependencies1-2/universal-dependencies-1.2/\"\n",
    "file_prefix = \"ttr\"\n",
    "treebanks = lang_utils.get_ud_paths(gold_output_base, type_=train_type, format_=file_format, coarse=False)"
   ]
  },
  {
   "cell_type": "code",
   "execution_count": 2,
   "metadata": {
    "collapsed": false
   },
   "outputs": [],
   "source": [
    "def calculate_ttr(trees):\n",
    "    words = defaultdict(int)\n",
    "    for tree in trees:\n",
    "        for word in tree.words:\n",
    "            words[word] += 1\n",
    "    \n",
    "    return sum(words.values()) / len(words)"
   ]
  },
  {
   "cell_type": "code",
   "execution_count": 3,
   "metadata": {
    "collapsed": false
   },
   "outputs": [],
   "source": [
    "token_type_ratio = {}\n",
    "for language, treebank in treebanks.items():\n",
    "    token_type_ratio[language] = calculate_ttr(udtree.from_files(treebank))\n",
    "\n",
    "ttr = pd.Series(token_type_ratio).sort_values()"
   ]
  },
  {
   "cell_type": "markdown",
   "metadata": {},
   "source": [
    "## TTR results on training set"
   ]
  },
  {
   "cell_type": "code",
   "execution_count": 4,
   "metadata": {
    "collapsed": false
   },
   "outputs": [
    {
     "data": {
      "text/plain": [
       "Polish                  3.075585\n",
       "Finnish                 3.310433\n",
       "Basque                  3.796379\n",
       "Slovenian               3.825699\n",
       "Greek                   4.595545\n",
       "Croatian                4.651343\n",
       "Bulgarian               4.966643\n",
       "Danish                  5.069451\n",
       "Swedish                 5.161877\n",
       "Old_Church_Slavonic     5.212935\n",
       "Gothic                  5.757209\n",
       "Dutch                   6.768994\n",
       "Portuguese              7.092235\n",
       "Arabic                  7.245380\n",
       "Norwegian               8.139665\n",
       "Hebrew                  8.167822\n",
       "Spanish                 8.275328\n",
       "Persian                 9.115697\n",
       "Italian                 9.171093\n",
       "Czech                   9.360645\n",
       "English                10.410971\n",
       "Hindi                  16.558089\n",
       "dtype: float64"
      ]
     },
     "execution_count": 4,
     "metadata": {},
     "output_type": "execute_result"
    }
   ],
   "source": [
    "ttr"
   ]
  },
  {
   "cell_type": "code",
   "execution_count": 5,
   "metadata": {
    "collapsed": false
   },
   "outputs": [
    {
     "data": {
      "text/plain": [
       "<matplotlib.axes._subplots.AxesSubplot at 0x105fb2710>"
      ]
     },
     "execution_count": 5,
     "metadata": {},
     "output_type": "execute_result"
    },
    {
     "data": {
      "image/png": "[encoded data removed]",
      "text/plain": [
       "<matplotlib.figure.Figure at 0x105fa5a20>"
      ]
     },
     "metadata": {},
     "output_type": "display_data"
    }
   ],
   "source": [
    "ttr.plot(kind='bar')"
   ]
  },
  {
   "cell_type": "markdown",
   "metadata": {},
   "source": [
    "The TTR order of the UD treebank languages seem to somewhat follow the intuition, where English as a highly isolated language is ranked highest, while Hungarian Finnish, and Basque are at the bottom. One clear outlier is Czech, which as a highly fusional language should have a much lower ratio. After investigation I realized that since the Czech training data is an order of magnitude larger than all other data, the type/token ratio naturally becomes much lower. This has been verified by others as well [[1]](http://link.springer.com/article/10.1007%2Fs11185-015-9151-8#).\n",
    "\n",
    "# Standardised TTR\n",
    "\n",
    "While [1] suggests a new measurement, zTTR, it seems a bit more difficult to implement so I'll just settle with Standardized TTR (sTTR) for now, which is the average TTR over chunked input of 1000 words."
   ]
  },
  {
   "cell_type": "code",
   "execution_count": 15,
   "metadata": {
    "collapsed": false
   },
   "outputs": [],
   "source": [
    "def calculate_chunked_ttr(trees):\n",
    "    max_chunk_size = 1000\n",
    "    chunks = [defaultdict(int)]\n",
    "    chunk_size = 0\n",
    "    for tree in trees:\n",
    "        for token in tree.tokens:\n",
    "            if chunk_size > max_chunk_size:\n",
    "                chunks.append(defaultdict(int))\n",
    "                chunk_size = 0\n",
    "            chunks[-1][token] += 1\n",
    "            chunk_size += 1\n",
    "    \n",
    "    ttrs = map(lambda tokens: len(tokens) / sum(tokens.values()), chunks)\n",
    "    return ttrs\n",
    "\n",
    "token_type_ratio = {}\n",
    "for language, treebank in treebanks.items():\n",
    "    series = pd.Series(calculate_chunked_ttr(udtree.from_files(treebank)))\n",
    "    token_type_ratio[language] = pd.Series({'mean': series.mean(), 'std_deviation': series.std()})\n"
   ]
  },
  {
   "cell_type": "code",
   "execution_count": 16,
   "metadata": {
    "collapsed": false
   },
   "outputs": [
    {
     "data": {
      "text/html": [
       "<div>\n",
       "<table border=\"1\" class=\"dataframe\">\n",
       "  <thead>\n",
       "    <tr style=\"text-align: right;\">\n",
       "      <th></th>\n",
       "      <th>mean</th>\n",
       "      <th>std_deviation</th>\n",
       "    </tr>\n",
       "  </thead>\n",
       "  <tbody>\n",
       "    <tr>\n",
       "      <th>Hindi</th>\n",
       "      <td>0.422420</td>\n",
       "      <td>0.021695</td>\n",
       "    </tr>\n",
       "    <tr>\n",
       "      <th>English</th>\n",
       "      <td>0.439059</td>\n",
       "      <td>0.036758</td>\n",
       "    </tr>\n",
       "    <tr>\n",
       "      <th>Persian</th>\n",
       "      <td>0.442695</td>\n",
       "      <td>0.045416</td>\n",
       "    </tr>\n",
       "    <tr>\n",
       "      <th>Norwegian</th>\n",
       "      <td>0.457679</td>\n",
       "      <td>0.037570</td>\n",
       "    </tr>\n",
       "    <tr>\n",
       "      <th>Portuguese</th>\n",
       "      <td>0.471063</td>\n",
       "      <td>0.017455</td>\n",
       "    </tr>\n",
       "    <tr>\n",
       "      <th>Italian</th>\n",
       "      <td>0.472097</td>\n",
       "      <td>0.052337</td>\n",
       "    </tr>\n",
       "    <tr>\n",
       "      <th>Swedish</th>\n",
       "      <td>0.479409</td>\n",
       "      <td>0.032571</td>\n",
       "    </tr>\n",
       "    <tr>\n",
       "      <th>Gothic</th>\n",
       "      <td>0.483249</td>\n",
       "      <td>0.051700</td>\n",
       "    </tr>\n",
       "    <tr>\n",
       "      <th>Dutch</th>\n",
       "      <td>0.487546</td>\n",
       "      <td>0.052765</td>\n",
       "    </tr>\n",
       "    <tr>\n",
       "      <th>Arabic</th>\n",
       "      <td>0.517218</td>\n",
       "      <td>0.027903</td>\n",
       "    </tr>\n",
       "    <tr>\n",
       "      <th>Old_Church_Slavonic</th>\n",
       "      <td>0.521597</td>\n",
       "      <td>0.044025</td>\n",
       "    </tr>\n",
       "    <tr>\n",
       "      <th>Spanish</th>\n",
       "      <td>0.528271</td>\n",
       "      <td>0.012453</td>\n",
       "    </tr>\n",
       "    <tr>\n",
       "      <th>Danish</th>\n",
       "      <td>0.533375</td>\n",
       "      <td>0.013637</td>\n",
       "    </tr>\n",
       "    <tr>\n",
       "      <th>Bulgarian</th>\n",
       "      <td>0.540929</td>\n",
       "      <td>0.044482</td>\n",
       "    </tr>\n",
       "    <tr>\n",
       "      <th>Greek</th>\n",
       "      <td>0.553622</td>\n",
       "      <td>0.017519</td>\n",
       "    </tr>\n",
       "    <tr>\n",
       "      <th>Croatian</th>\n",
       "      <td>0.553881</td>\n",
       "      <td>0.025055</td>\n",
       "    </tr>\n",
       "    <tr>\n",
       "      <th>Hebrew</th>\n",
       "      <td>0.588842</td>\n",
       "      <td>0.026879</td>\n",
       "    </tr>\n",
       "    <tr>\n",
       "      <th>Slovenian</th>\n",
       "      <td>0.594056</td>\n",
       "      <td>0.030845</td>\n",
       "    </tr>\n",
       "    <tr>\n",
       "      <th>Czech</th>\n",
       "      <td>0.602613</td>\n",
       "      <td>0.037884</td>\n",
       "    </tr>\n",
       "    <tr>\n",
       "      <th>Finnish</th>\n",
       "      <td>0.630821</td>\n",
       "      <td>0.059568</td>\n",
       "    </tr>\n",
       "    <tr>\n",
       "      <th>Polish</th>\n",
       "      <td>0.638615</td>\n",
       "      <td>0.026045</td>\n",
       "    </tr>\n",
       "    <tr>\n",
       "      <th>Basque</th>\n",
       "      <td>0.650823</td>\n",
       "      <td>0.018880</td>\n",
       "    </tr>\n",
       "  </tbody>\n",
       "</table>\n",
       "</div>"
      ],
      "text/plain": [
       "                         mean  std_deviation\n",
       "Hindi                0.422420       0.021695\n",
       "English              0.439059       0.036758\n",
       "Persian              0.442695       0.045416\n",
       "Norwegian            0.457679       0.037570\n",
       "Portuguese           0.471063       0.017455\n",
       "Italian              0.472097       0.052337\n",
       "Swedish              0.479409       0.032571\n",
       "Gothic               0.483249       0.051700\n",
       "Dutch                0.487546       0.052765\n",
       "Arabic               0.517218       0.027903\n",
       "Old_Church_Slavonic  0.521597       0.044025\n",
       "Spanish              0.528271       0.012453\n",
       "Danish               0.533375       0.013637\n",
       "Bulgarian            0.540929       0.044482\n",
       "Greek                0.553622       0.017519\n",
       "Croatian             0.553881       0.025055\n",
       "Hebrew               0.588842       0.026879\n",
       "Slovenian            0.594056       0.030845\n",
       "Czech                0.602613       0.037884\n",
       "Finnish              0.630821       0.059568\n",
       "Polish               0.638615       0.026045\n",
       "Basque               0.650823       0.018880"
      ]
     },
     "execution_count": 16,
     "metadata": {},
     "output_type": "execute_result"
    }
   ],
   "source": [
    "ttr = pd.concat(token_type_ratio, axis=1).transpose().sort_values('mean')\n",
    "ttr.to_csv('../data/standard_ttr.1.2.csv')\n",
    "ttr"
   ]
  },
  {
   "cell_type": "code",
   "execution_count": 65,
   "metadata": {
    "collapsed": false
   },
   "outputs": [
    {
     "data": {
      "text/html": [
       "<div>\n",
       "<table border=\"1\" class=\"dataframe\">\n",
       "  <thead>\n",
       "    <tr style=\"text-align: right;\">\n",
       "      <th></th>\n",
       "      <th>STTR</th>\n",
       "      <th>Content deprel ratio</th>\n",
       "    </tr>\n",
       "  </thead>\n",
       "  <tbody>\n",
       "    <tr>\n",
       "      <th>STTR</th>\n",
       "      <td>1.000000</td>\n",
       "      <td>0.276736</td>\n",
       "    </tr>\n",
       "    <tr>\n",
       "      <th>Content deprel ratio</th>\n",
       "      <td>0.276736</td>\n",
       "      <td>1.000000</td>\n",
       "    </tr>\n",
       "  </tbody>\n",
       "</table>\n",
       "</div>"
      ],
      "text/plain": [
       "                          STTR  Content deprel ratio\n",
       "STTR                  1.000000              0.276736\n",
       "Content deprel ratio  0.276736              1.000000"
      ]
     },
     "execution_count": 65,
     "metadata": {},
     "output_type": "execute_result"
    },
    {
     "data": {
      "image/png": "[encoded data removed]",
      "text/plain": [
       "<matplotlib.figure.Figure at 0x10940acc0>"
      ]
     },
     "metadata": {},
     "output_type": "display_data"
    }
   ],
   "source": [
    "content_dist = pd.Series.from_csv('../data/maltdefault.content_dist.csv')\n",
    "content_sttr = pd.concat([ttr['mean'], content_dist], axis=1)\n",
    "renamed = content_sttr.rename(index={'Old_Church_Slavonic': 'O.C. Slavonic'}, columns={'mean': 'STTR', 0: \"Content deprel ratio\"})\n",
    "renamed.sort_values('STTR').plot(kind='barh', figsize=(3.5, 3), fontsize=6, legend=False)\n",
    "plt.legend(fontsize=3, loc=4)\n",
    "plt.tight_layout()\n",
    "plt.savefig('../paper/figures/standard_ttr.pgf')\n",
    "renamed.corr()"
   ]
  },
  {
   "cell_type": "markdown",
   "metadata": {},
   "source": [
    "This looks much better. The standard deviation is somewhat higher for Finnish, Bulgarian, Italian, Persian, and English. It doesn't seem to correlate with the their domains according to UD docs. In any case, the std deviations aren't high enough to alter the results significantly.\n",
    "\n",
    "# Conclusion\n",
    "\n",
    "sTTR is a better measurement, due to the training data being of such different sizes. The results of sTTR are much more intuitive given the typological differences we are interested of (at least of the languages that I have some knowledge of). Given the results, I'm confident we can use the sTTR measurement as a reference when looking at the distribution of function dependencies across languages."
   ]
  }
 ],
 "metadata": {
  "kernelspec": {
   "display_name": "Python 3",
   "language": "python",
   "name": "python3"
  },
  "language_info": {
   "codemirror_mode": {
    "name": "ipython",
    "version": 3
   },
   "file_extension": ".py",
   "mimetype": "text/x-python",
   "name": "python",
   "nbconvert_exporter": "python",
   "pygments_lexer": "ipython3",
   "version": "3.4.3"
  }
 },
 "nbformat": 4,
 "nbformat_minor": 0
}
