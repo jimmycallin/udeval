{
 "cells": [
  {
   "cell_type": "markdown",
   "metadata": {},
   "source": [
    "# Parser results -- Maltparser, default settings (1.2 updated)\n",
    "\n",
    "This notebook will perform the same experiments as [the previous one](/notebooks/4.%20Analysis%20of%20parser%20results%20%28Mate%20tools%29.ipynb) for Mate tools, only instead using Maltparser run with default settings. We are also testing the entire UD 1.2 collection, instead of just looking at 1.0 as for Mate.\n",
    "\n",
    "## Preprocessing\n",
    "\n",
    "The conllu files had to be preprocessed to support the conllx format. This was done using the `tools/conllu2conllx.py` script. Thereafter the models were trained and tested with `tools/train_maltparser_default.py` and `tools/test_maltparser_default.py`.\n",
    "\n",
    "#### Functional and content dependents\n",
    "As specified in [A manual classification of dependency relations](/notebooks/3.%20A%20manual%20classification%20of%20dependency%20relations.ipynb)\n",
    "\n",
    "- Functional dependents\n",
    "- Content dependendents\n",
    "\n",
    "#### Dependent classes as specified in the [UD documentation](http://universaldependencies.github.io/docs/u/dep/index.html)\n",
    "\n",
    "- Classes expected to perform better than overall LAS for __synthetic__ languages:\n",
    "  - __Core dependents of clausal predicates__: nsubj, csubj, nsubjpass, csubjpass, dobj, ccomp, xcomp, iobj\n",
    "  - __Non-core dependents of clausal predicates__: nmod, advcl, advmod, neg\n",
    "  - __Noun dependents, excluding _det_ and _neg___: nummod, acl, amod, appos, nmod\n",
    "  - __Coordination, excluding _cc_ and _punct___: conj\n",
    "  - \n",
    "- Classes expected to perform better than overall LAS for __isolated__ languages:\n",
    "  - __Special clausal dependents__: vocative, aux, mark, discourse, auxpass, punct, expl, cop\n",
    "  - __Case-marking, prepositions, possessive__: case\n",
    "\n",
    "\n",
    "## Things to keep in mind when looking at the results\n",
    "\n",
    "- Irish and Hungarian has fairly little data, and can't probably be trusted. \n",
    "- Czech has A LOT of data."
   ]
  },
  {
   "cell_type": "code",
   "execution_count": 28,
   "metadata": {
    "collapsed": false
   },
   "outputs": [],
   "source": [
    "# Matplotlib\n",
    "%matplotlib inline\n",
    "import matplotlib as mpl\n",
    "from matplotlib import pylab\n",
    "import matplotlib.pyplot as plt\n",
    "pylab.rcParams['figure.figsize'] = (10.0, 7.0)\n",
    "mpl.style.use('ggplot')\n",
    "from matplotlib.backends.backend_pgf import FigureCanvasPgf\n",
    "mpl.backend_bases.register_backend('pgf', FigureCanvasPgf)\n",
    "\n",
    "# Remove warnings\n",
    "import warnings\n",
    "warnings.filterwarnings('ignore')\n",
    "\n",
    "import sys, os\n",
    "sys.path.append(\"../tools/\")\n",
    "from collections import defaultdict\n",
    "\n",
    "# Data management libraries\n",
    "import pandas as pd\n",
    "#import seaborn as sns\n",
    "\n",
    "# Treebank utils, found in \"../tools\"\n",
    "import udeval, lang_utils, dependency_classes\n",
    "\n",
    "is_labeled = True\n",
    "is_fine_grained_deprels = False\n",
    "file_format = \"conllx\"\n",
    "test_type = \"test\"\n",
    "\n",
    "system_output_base = \"/Users/jimmy/dev/edu/nlp-rod/udeval/resources/maltdefault_coarse_output_test_1-2/\"\n",
    "gold_output_base = \"/Users/jimmy/dev/edu/nlp-rod/udeval/resources/universaldependencies1-2/universal-dependencies-1.2/\"\n",
    "file_prefix = \"maltdefault\"\n",
    "\n",
    "system_files = lang_utils.get_system_output_paths(system_output_base, type_=test_type, format_=file_format)\n",
    "gold_files = lang_utils.get_ud_paths(gold_output_base, type_=test_type, format_=file_format, coarse=not is_fine_grained_deprels)\n",
    "\n",
    "def labeled_attachment_scores():\n",
    "    las = {}\n",
    "    for lang, system_path in system_files.items():\n",
    "        s_out = system_path\n",
    "        g_out = gold_files[lang]\n",
    "        score = udeval.attachment_score(s_out, g_out, labeled=is_labeled, fine_grained_deprels=is_fine_grained_deprels)\n",
    "        las[lang] = score\n",
    "    return pd.Series(las)\n",
    "\n",
    "def averaged_weighted_attachment_scores():\n",
    "    wlas = {}\n",
    "    wde = pd.Series.from_csv('../data/function_content_degree.wde.csv').to_dict()\n",
    "    wde['punct'] = 0\n",
    "    for lang, system_path in system_files.items():\n",
    "        s_out = system_path\n",
    "        g_out = gold_files[lang]\n",
    "        score = udeval.weighted_las(s_out, g_out, wde)\n",
    "        wlas[lang] = score\n",
    "    return pd.Series(wlas)\n",
    "\n",
    "def individual_weighted_attachment_scores():\n",
    "    wdes = pd.DataFrame.from_csv('../data/function_content_degree.individual_languages.wde.csv')\n",
    "    for lang, system_path in system_files.items():\n",
    "        wdes[lang]['punct'] = 0\n",
    "        s_out = system_path\n",
    "        g_out = gold_files[lang]\n",
    "        score = udeval.weighted_las(s_out, g_out, wdes[lang].to_dict())\n",
    "        wlas[lang] = score\n",
    "    return pd.Series(wlas)\n",
    "\n",
    "def precision_recall_filter_labels(labels):\n",
    "    prec_recs = {\"precision\": [], \"recall\": []}\n",
    "    index = []\n",
    "    for lang, system_path in system_files.items():\n",
    "        s_out = system_path\n",
    "        g_out = gold_files[lang]\n",
    "        precision, recall = udeval.labels_precision_recall(s_out, \n",
    "                                                           g_out, \n",
    "                                                           labels=labels,\n",
    "                                                           fine_grained_deprels=is_fine_grained_deprels)\n",
    "        index.append(lang)\n",
    "        prec_recs[\"precision\"].append(precision)\n",
    "        prec_recs[\"recall\"].append(recall)\n",
    "\n",
    "    return pd.DataFrame(prec_recs, index=index).sort_values(\"precision\")"
   ]
  },
  {
   "cell_type": "code",
   "execution_count": 29,
   "metadata": {
    "collapsed": false
   },
   "outputs": [
    {
     "ename": "NameError",
     "evalue": "name 'wlas' is not defined",
     "output_type": "error",
     "traceback": [
      "\u001b[0;31m---------------------------------------------------------------------------\u001b[0m",
      "\u001b[0;31mNameError\u001b[0m                                 Traceback (most recent call last)",
      "\u001b[0;32m<ipython-input-29-3de197c36ebc>\u001b[0m in \u001b[0;36m<module>\u001b[0;34m()\u001b[0m\n\u001b[0;32m----> 1\u001b[0;31m \u001b[0mindividual_wlas\u001b[0m \u001b[0;34m=\u001b[0m \u001b[0mindividual_weighted_attachment_scores\u001b[0m\u001b[0;34m(\u001b[0m\u001b[0;34m)\u001b[0m\u001b[0;34m\u001b[0m\u001b[0m\n\u001b[0m\u001b[1;32m      2\u001b[0m \u001b[0mindividual_wlas\u001b[0m\u001b[0;34m.\u001b[0m\u001b[0mto_csv\u001b[0m\u001b[0;34m(\u001b[0m\u001b[0;34m'../data/'\u001b[0m \u001b[0;34m+\u001b[0m \u001b[0mfile_prefix\u001b[0m \u001b[0;34m+\u001b[0m \u001b[0;34m'.individual_wlas.csv'\u001b[0m\u001b[0;34m)\u001b[0m\u001b[0;34m\u001b[0m\u001b[0m\n",
      "\u001b[0;32m<ipython-input-28-0f4e534041d3>\u001b[0m in \u001b[0;36mindividual_weighted_attachment_scores\u001b[0;34m()\u001b[0m\n\u001b[1;32m     63\u001b[0m         \u001b[0mg_out\u001b[0m \u001b[0;34m=\u001b[0m \u001b[0mgold_files\u001b[0m\u001b[0;34m[\u001b[0m\u001b[0mlang\u001b[0m\u001b[0;34m]\u001b[0m\u001b[0;34m\u001b[0m\u001b[0m\n\u001b[1;32m     64\u001b[0m         \u001b[0mscore\u001b[0m \u001b[0;34m=\u001b[0m \u001b[0mudeval\u001b[0m\u001b[0;34m.\u001b[0m\u001b[0mweighted_las\u001b[0m\u001b[0;34m(\u001b[0m\u001b[0ms_out\u001b[0m\u001b[0;34m,\u001b[0m \u001b[0mg_out\u001b[0m\u001b[0;34m,\u001b[0m \u001b[0mwdes\u001b[0m\u001b[0;34m[\u001b[0m\u001b[0mlang\u001b[0m\u001b[0;34m]\u001b[0m\u001b[0;34m.\u001b[0m\u001b[0mto_dict\u001b[0m\u001b[0;34m(\u001b[0m\u001b[0;34m)\u001b[0m\u001b[0;34m)\u001b[0m\u001b[0;34m\u001b[0m\u001b[0m\n\u001b[0;32m---> 65\u001b[0;31m         \u001b[0mwlas\u001b[0m\u001b[0;34m[\u001b[0m\u001b[0mlang\u001b[0m\u001b[0;34m]\u001b[0m \u001b[0;34m=\u001b[0m \u001b[0mscore\u001b[0m\u001b[0;34m\u001b[0m\u001b[0m\n\u001b[0m\u001b[1;32m     66\u001b[0m     \u001b[0;32mreturn\u001b[0m \u001b[0mpd\u001b[0m\u001b[0;34m.\u001b[0m\u001b[0mSeries\u001b[0m\u001b[0;34m(\u001b[0m\u001b[0mwlas\u001b[0m\u001b[0;34m)\u001b[0m\u001b[0;34m\u001b[0m\u001b[0m\n\u001b[1;32m     67\u001b[0m \u001b[0;34m\u001b[0m\u001b[0m\n",
      "\u001b[0;31mNameError\u001b[0m: name 'wlas' is not defined"
     ]
    }
   ],
   "source": [
    "individual_wlas = individual_weighted_attachment_scores()\n",
    "individual_wlas.to_csv('../data/' + file_prefix + '.individual_wlas.csv')"
   ]
  },
  {
   "cell_type": "code",
   "execution_count": 39,
   "metadata": {
    "collapsed": false
   },
   "outputs": [],
   "source": [
    "averaged_wlas = averaged_weighted_attachment_scores()\n",
    "averaged_wlas.to_csv('../data/' + file_prefix + '.averaged_wlas.csv')"
   ]
  },
  {
   "cell_type": "code",
   "execution_count": 40,
   "metadata": {
    "collapsed": false,
    "scrolled": true
   },
   "outputs": [],
   "source": [
    "las = labeled_attachment_scores()\n",
    "las.to_csv('../data/' + file_prefix + '.las.csv')"
   ]
  },
  {
   "cell_type": "markdown",
   "metadata": {},
   "source": [
    "# Performance for dependency classes\n",
    "\n",
    "We calculate the precision and recall only using the labels classified as content relations. We then subtract the LAS to present how large of an increase (or reduction) in results the label class gets.\n",
    "\n",
    "### Content and function relations\n",
    "\n",
    "#### Absolute performance"
   ]
  },
  {
   "cell_type": "code",
   "execution_count": 37,
   "metadata": {
    "collapsed": false
   },
   "outputs": [],
   "source": [
    "content_dependents_result = precision_recall_filter_labels(dependency_classes.content_dependents)\n",
    "function_dependents_result = precision_recall_filter_labels(dependency_classes.function_dependents)\n",
    "results_dict = {\"Content\": content_dependents_result, \n",
    "                \"Function\": function_dependents_result}\n",
    "\n",
    "content_function_results = pd.concat(results_dict.values(), keys=results_dict.keys(), axis=1)"
   ]
  },
  {
   "cell_type": "code",
   "execution_count": 41,
   "metadata": {
    "collapsed": false
   },
   "outputs": [],
   "source": [
    "content_function_results.to_csv('../data/' + file_prefix + '.content_function.precision_recall.csv')\n",
    "lang_measures = pd.concat([averaged_wlas,\n",
    "                           las, \n",
    "                           content_function_results], \n",
    "                          axis=1).rename(columns={0: 'WLAS', \n",
    "                                                  1: 'LAS', \n",
    "                                                  ('Content', 'precision'): 'C prec', \n",
    "                                                  ('Function', 'precision'): 'F prec', \n",
    "                                                  ('Content', 'recall'): 'C rec', \n",
    "                                                  ('Function', 'recall'): 'F rec'})\n",
    "lang_measures.to_csv('../data/maltdefault.lang_measures.csv')"
   ]
  },
  {
   "cell_type": "markdown",
   "metadata": {},
   "source": [
    "## Individual dependency performance"
   ]
  },
  {
   "cell_type": "code",
   "execution_count": 170,
   "metadata": {
    "collapsed": false
   },
   "outputs": [],
   "source": [
    "label_performance = {}\n",
    "for label in dependency_classes.all_labels:\n",
    "    label_performance[label] = precision_recall_filter_labels({label})"
   ]
  },
  {
   "cell_type": "code",
   "execution_count": 189,
   "metadata": {
    "collapsed": false
   },
   "outputs": [
    {
     "data": {
      "text/plain": [
       "<matplotlib.axes._subplots.AxesSubplot at 0x10b270b70>"
      ]
     },
     "execution_count": 189,
     "metadata": {},
     "output_type": "execute_result"
    },
    {
     "data": {
      "image/png": "[encoded data removed]",
      "text/plain": [
       "<matplotlib.figure.Figure at 0x10ac21ef0>"
      ]
     },
     "metadata": {},
     "output_type": "display_data"
    }
   ],
   "source": [
    "english_recall = pd.Series({x:y.loc['English']['recall'] for x,y in label_performance.items()}).fillna(0)\n",
    "english_recall.sort_values().plot(kind='barh')"
   ]
  },
  {
   "cell_type": "markdown",
   "metadata": {},
   "source": [
    "## Function correct given head"
   ]
  },
  {
   "cell_type": "code",
   "execution_count": 35,
   "metadata": {
    "collapsed": false
   },
   "outputs": [],
   "source": [
    "import udtree\n",
    "def right_wrong(system_tree, gold_tree, labeled=False, fine_grained_deprels=False, ignore_deprels=None):\n",
    "    if ignore_deprels:\n",
    "        ignore_deprels = set(ignore_deprels)\n",
    "    correct = []\n",
    "    total = 0\n",
    "    for (index,\n",
    "         system_head,\n",
    "         system_label,\n",
    "         gold_head,\n",
    "         gold_label) in zip(gold_tree.ids,\n",
    "                            system_tree.heads,\n",
    "                            system_tree.deprels,\n",
    "                            gold_tree.heads,\n",
    "                            gold_tree.deprels):\n",
    "\n",
    "        if not fine_grained_deprels:\n",
    "            gold_label = gold_label.split(\":\")[0]\n",
    "            system_label = system_label.split(\":\")[0]\n",
    "\n",
    "        is_correct = False\n",
    "        if system_head == gold_head:\n",
    "            is_correct = True\n",
    "            if labeled and system_label != gold_label:\n",
    "                is_correct = False\n",
    "\n",
    "        if is_correct:\n",
    "            correct.append((True, gold_label, system_head))\n",
    "        else:\n",
    "            correct.append((False, gold_label, system_head))\n",
    "\n",
    "    return correct\n",
    "\n",
    "def function_correct_head(system_output_path, gold_path, labels, labeled):\n",
    "    system = udtree.from_files(system_output_path)\n",
    "    gold = udtree.from_files(gold_path)\n",
    "    correct_head, incorrect_head = 0, 0\n",
    "    for system_tree, gold_tree in zip(system, gold):\n",
    "        res= right_wrong(system_tree, gold_tree, labeled,\n",
    "                         fine_grained_deprels=False)\n",
    "\n",
    "        for correct, gold_label, system_head in res:\n",
    "            if not correct and gold_label in labels:\n",
    "                head_index = system_head-1\n",
    "                if head_index >= 0 and res[head_index][0]:\n",
    "                    correct_head += 1\n",
    "                else:\n",
    "                    incorrect_head += 1\n",
    "\n",
    "    return correct_head / (incorrect_head + correct_head)"
   ]
  },
  {
   "cell_type": "code",
   "execution_count": 36,
   "metadata": {
    "collapsed": false
   },
   "outputs": [
    {
     "data": {
      "text/html": [
       "<div>\n",
       "<table border=\"1\" class=\"dataframe\">\n",
       "  <thead>\n",
       "    <tr style=\"text-align: right;\">\n",
       "      <th></th>\n",
       "      <th>Content labeled</th>\n",
       "      <th>Content unlabeled</th>\n",
       "      <th>Function labeled</th>\n",
       "      <th>Function unlabeled</th>\n",
       "    </tr>\n",
       "  </thead>\n",
       "  <tbody>\n",
       "    <tr>\n",
       "      <th>Arabic</th>\n",
       "      <td>0.513789</td>\n",
       "      <td>0.563860</td>\n",
       "      <td>0.398017</td>\n",
       "      <td>0.489478</td>\n",
       "    </tr>\n",
       "    <tr>\n",
       "      <th>Bulgarian</th>\n",
       "      <td>0.552858</td>\n",
       "      <td>0.548533</td>\n",
       "      <td>0.506596</td>\n",
       "      <td>0.559701</td>\n",
       "    </tr>\n",
       "    <tr>\n",
       "      <th>Croatian</th>\n",
       "      <td>0.474149</td>\n",
       "      <td>0.459615</td>\n",
       "      <td>0.318436</td>\n",
       "      <td>0.267606</td>\n",
       "    </tr>\n",
       "    <tr>\n",
       "      <th>Czech</th>\n",
       "      <td>0.486107</td>\n",
       "      <td>0.457754</td>\n",
       "      <td>0.371002</td>\n",
       "      <td>0.354005</td>\n",
       "    </tr>\n",
       "    <tr>\n",
       "      <th>Danish</th>\n",
       "      <td>0.407881</td>\n",
       "      <td>0.401361</td>\n",
       "      <td>0.233010</td>\n",
       "      <td>0.246154</td>\n",
       "    </tr>\n",
       "    <tr>\n",
       "      <th>English</th>\n",
       "      <td>0.477665</td>\n",
       "      <td>0.438391</td>\n",
       "      <td>0.329310</td>\n",
       "      <td>0.363806</td>\n",
       "    </tr>\n",
       "    <tr>\n",
       "      <th>Finnish</th>\n",
       "      <td>0.391100</td>\n",
       "      <td>0.376749</td>\n",
       "      <td>0.246106</td>\n",
       "      <td>0.289116</td>\n",
       "    </tr>\n",
       "    <tr>\n",
       "      <th>Gothic</th>\n",
       "      <td>0.369090</td>\n",
       "      <td>0.325050</td>\n",
       "      <td>0.311284</td>\n",
       "      <td>0.368421</td>\n",
       "    </tr>\n",
       "    <tr>\n",
       "      <th>Greek</th>\n",
       "      <td>0.443193</td>\n",
       "      <td>0.433289</td>\n",
       "      <td>0.308550</td>\n",
       "      <td>0.333333</td>\n",
       "    </tr>\n",
       "    <tr>\n",
       "      <th>Hebrew</th>\n",
       "      <td>0.508979</td>\n",
       "      <td>0.543077</td>\n",
       "      <td>0.332308</td>\n",
       "      <td>0.466216</td>\n",
       "    </tr>\n",
       "    <tr>\n",
       "      <th>Hindi</th>\n",
       "      <td>0.612025</td>\n",
       "      <td>0.514028</td>\n",
       "      <td>0.379310</td>\n",
       "      <td>0.309896</td>\n",
       "    </tr>\n",
       "    <tr>\n",
       "      <th>Italian</th>\n",
       "      <td>0.576956</td>\n",
       "      <td>0.563877</td>\n",
       "      <td>0.443902</td>\n",
       "      <td>0.482955</td>\n",
       "    </tr>\n",
       "    <tr>\n",
       "      <th>Norwegian</th>\n",
       "      <td>0.545482</td>\n",
       "      <td>0.511590</td>\n",
       "      <td>0.360983</td>\n",
       "      <td>0.376414</td>\n",
       "    </tr>\n",
       "    <tr>\n",
       "      <th>Old_Church_Slavonic</th>\n",
       "      <td>0.412851</td>\n",
       "      <td>0.378142</td>\n",
       "      <td>0.320856</td>\n",
       "      <td>0.359116</td>\n",
       "    </tr>\n",
       "    <tr>\n",
       "      <th>Persian</th>\n",
       "      <td>0.466040</td>\n",
       "      <td>0.447215</td>\n",
       "      <td>0.312618</td>\n",
       "      <td>0.407115</td>\n",
       "    </tr>\n",
       "    <tr>\n",
       "      <th>Polish</th>\n",
       "      <td>0.590455</td>\n",
       "      <td>0.524721</td>\n",
       "      <td>0.382353</td>\n",
       "      <td>0.435484</td>\n",
       "    </tr>\n",
       "    <tr>\n",
       "      <th>Portuguese</th>\n",
       "      <td>0.468710</td>\n",
       "      <td>0.464169</td>\n",
       "      <td>0.311475</td>\n",
       "      <td>0.324324</td>\n",
       "    </tr>\n",
       "    <tr>\n",
       "      <th>Slovenian</th>\n",
       "      <td>0.409524</td>\n",
       "      <td>0.380392</td>\n",
       "      <td>0.300493</td>\n",
       "      <td>0.332481</td>\n",
       "    </tr>\n",
       "    <tr>\n",
       "      <th>Spanish</th>\n",
       "      <td>0.462995</td>\n",
       "      <td>0.483314</td>\n",
       "      <td>0.295620</td>\n",
       "      <td>0.341270</td>\n",
       "    </tr>\n",
       "    <tr>\n",
       "      <th>Swedish</th>\n",
       "      <td>0.467556</td>\n",
       "      <td>0.450812</td>\n",
       "      <td>0.361520</td>\n",
       "      <td>0.389518</td>\n",
       "    </tr>\n",
       "  </tbody>\n",
       "</table>\n",
       "</div>"
      ],
      "text/plain": [
       "                     Content labeled  Content unlabeled  Function labeled  \\\n",
       "Arabic                      0.513789           0.563860          0.398017   \n",
       "Bulgarian                   0.552858           0.548533          0.506596   \n",
       "Croatian                    0.474149           0.459615          0.318436   \n",
       "Czech                       0.486107           0.457754          0.371002   \n",
       "Danish                      0.407881           0.401361          0.233010   \n",
       "English                     0.477665           0.438391          0.329310   \n",
       "Finnish                     0.391100           0.376749          0.246106   \n",
       "Gothic                      0.369090           0.325050          0.311284   \n",
       "Greek                       0.443193           0.433289          0.308550   \n",
       "Hebrew                      0.508979           0.543077          0.332308   \n",
       "Hindi                       0.612025           0.514028          0.379310   \n",
       "Italian                     0.576956           0.563877          0.443902   \n",
       "Norwegian                   0.545482           0.511590          0.360983   \n",
       "Old_Church_Slavonic         0.412851           0.378142          0.320856   \n",
       "Persian                     0.466040           0.447215          0.312618   \n",
       "Polish                      0.590455           0.524721          0.382353   \n",
       "Portuguese                  0.468710           0.464169          0.311475   \n",
       "Slovenian                   0.409524           0.380392          0.300493   \n",
       "Spanish                     0.462995           0.483314          0.295620   \n",
       "Swedish                     0.467556           0.450812          0.361520   \n",
       "\n",
       "                     Function unlabeled  \n",
       "Arabic                         0.489478  \n",
       "Bulgarian                      0.559701  \n",
       "Croatian                       0.267606  \n",
       "Czech                          0.354005  \n",
       "Danish                         0.246154  \n",
       "English                        0.363806  \n",
       "Finnish                        0.289116  \n",
       "Gothic                         0.368421  \n",
       "Greek                          0.333333  \n",
       "Hebrew                         0.466216  \n",
       "Hindi                          0.309896  \n",
       "Italian                        0.482955  \n",
       "Norwegian                      0.376414  \n",
       "Old_Church_Slavonic            0.359116  \n",
       "Persian                        0.407115  \n",
       "Polish                         0.435484  \n",
       "Portuguese                     0.324324  \n",
       "Slovenian                      0.332481  \n",
       "Spanish                        0.341270  \n",
       "Swedish                        0.389518  "
      ]
     },
     "execution_count": 36,
     "metadata": {},
     "output_type": "execute_result"
    }
   ],
   "source": [
    "lang_res = {}\n",
    "for lang, system_path in system_files.items():\n",
    "    s_out = system_path\n",
    "    g_out = gold_files[lang]\n",
    "    lang_res[lang] = {}\n",
    "    lang_res[lang]['Function labeled'] = function_correct_head(s_out, g_out, dependency_classes.function_dependents, labeled=True)\n",
    "    lang_res[lang]['Content labeled'] = function_correct_head(s_out, g_out, dependency_classes.content_dependents, labeled=True)\n",
    "    lang_res[lang]['Function unlabeled'] = function_correct_head(s_out, g_out, dependency_classes.function_dependents, labeled=False)\n",
    "    lang_res[lang]['Content unlabeled'] = function_correct_head(s_out, g_out, dependency_classes.content_dependents, labeled=False)\n",
    "\n",
    "res = pd.DataFrame(lang_res).transpose()\n",
    "res.to_csv('../data/maltdefault.cascading_errors.csv')\n",
    "res"
   ]
  },
  {
   "cell_type": "markdown",
   "metadata": {},
   "source": [
    "This means that function dependency errors are MORE likely to come from cascading errors than content dependency errors. For Finnish, only 20% of the function errors have correct head, while English and Hindi have up to 30%. There doesn't seem to be any correlation happening here.\n",
    "\n",
    "For faulty content dependencies, a higher ratio have correct heads. What does this mean?\n",
    "\n",
    "This means that function dependencies are more likely to be due to cascading errors. "
   ]
  }
 ],
 "metadata": {
  "kernelspec": {
   "display_name": "Python 3",
   "language": "python",
   "name": "python3"
  },
  "language_info": {
   "codemirror_mode": {
    "name": "ipython",
    "version": 3
   },
   "file_extension": ".py",
   "mimetype": "text/x-python",
   "name": "python",
   "nbconvert_exporter": "python",
   "pygments_lexer": "ipython3",
   "version": "3.4.3"
  }
 },
 "nbformat": 4,
 "nbformat_minor": 0
}
