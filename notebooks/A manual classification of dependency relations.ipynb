{
 "cells": [
  {
   "cell_type": "markdown",
   "metadata": {},
   "source": [
    "# A manual classification of dependency relations\n",
    "\n",
    "Here, I will look into the distributive properties of a manual classification of dependency relations into two classes:\n",
    "\n",
    "- Content dependencies\n",
    "- Function dependencies\n",
    "\n",
    "This is the initial classification:\n",
    "\n",
    "Content     |   Function\n",
    "------------|---------\n",
    "nsubj       |   neg\n",
    "csubj       |   aux\n",
    "nsubjpass   |   mark\n",
    "csubjpass   |   auxpass\n",
    "dobjs       |   punct\n",
    "ccomp       |   expl\n",
    "xcomp       |   cop\n",
    "iobj        |   cc\n",
    "advcl       |   ncmod\n",
    "nfincl      |   det\n",
    "ncmod       |   neg\n",
    "nmod        |   case\n",
    "advmod      |   discourse\n",
    "vocative    |   \n",
    "conj        |\n",
    "nummod      |\n",
    "appos       |\n",
    "nmod        |\n",
    "amod        |\n",
    "compound    |\n",
    "name        |\n",
    "foreign     |\n",
    "list        |\n",
    "dislocated  |\n",
    "parataxis   |\n",
    "remnant     |\n",
    "reparandum  |\n",
    "mwe         |\n",
    "goeswith    |\n",
    "\n",
    "There are several questionable choises here that I will have to look closer into:\n",
    "\n",
    "- discourse\n",
    "- mwe\n",
    "- goeswith\n",
    "- reparandum\n",
    "\n",
    "And certainly a few more. I will have to think about these a bit more.\n",
    "\n",
    "As soon as possible, I will continue with a closer analysis of what such a classification could mean, and if we can learn anything from previous analyses on [Dependency distribution in UD languages](http://localhost:8888/notebooks/Dependency%20distribution%20in%20Universal%20Dependency%20languages.ipynb) and [Type-token ratio in Universal Dependencies treebanks](http://localhost:8888/notebooks/Type-token%20ratio%20in%20Universal%20Dependencies%20treebanks.ipynb)"
   ]
  },
  {
   "cell_type": "code",
   "execution_count": null,
   "metadata": {
    "collapsed": true
   },
   "outputs": [],
   "source": []
  }
 ],
 "metadata": {
  "kernelspec": {
   "display_name": "Python 3",
   "language": "python",
   "name": "python3"
  },
  "language_info": {
   "codemirror_mode": {
    "name": "ipython",
    "version": 3
   },
   "file_extension": ".py",
   "mimetype": "text/x-python",
   "name": "python",
   "nbconvert_exporter": "python",
   "pygments_lexer": "ipython3",
   "version": "3.4.3"
  }
 },
 "nbformat": 4,
 "nbformat_minor": 0
}
