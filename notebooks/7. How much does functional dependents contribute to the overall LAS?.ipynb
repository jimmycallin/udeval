{
 "cells": [
  {
   "cell_type": "markdown",
   "metadata": {},
   "source": [
    "# How much does contfunc dependents contribute to the overall LAS?\n",
    "\n",
    "We are interested in looking at the contribution of functional dependents to the overall LAS score. To do this, we look at the correlation between the LAS score of functional dependency classes, plotted against the frequency ratio of the dependency class. If there is a correlation between how common the dependency class is in the language and how common the class is, we can draw the conclusion that the more common functional dependencies are in a language, the easier it is to parse.\n",
    "\n",
    "We also expect that such a correlation cannot be found in content classes.\n",
    "\n",
    "## Summary\n",
    "\n",
    "There is such a correlation for the functional dependency class, and we lack the same correlation for content classes."
   ]
  },
  {
   "cell_type": "code",
   "execution_count": 4,
   "metadata": {
    "collapsed": false
   },
   "outputs": [],
   "source": [
    "# Matplotlib\n",
    "%matplotlib inline\n",
    "import matplotlib as mpl\n",
    "from matplotlib import pylab\n",
    "import matplotlib.pyplot as plt\n",
    "pylab.rcParams['figure.figsize'] = (10.0, 7.0)\n",
    "mpl.style.use('ggplot')\n",
    "from matplotlib.backends.backend_pgf import FigureCanvasPgf\n",
    "mpl.backend_bases.register_backend('pgf', FigureCanvasPgf)\n",
    "\n",
    "# Remove warnings\n",
    "import warnings\n",
    "warnings.filterwarnings('ignore')\n",
    "\n",
    "import sys, os\n",
    "from os.path import join\n",
    "sys.path.append(\"../tools/\")\n",
    "from collections import defaultdict\n",
    "\n",
    "# Data management libraries\n",
    "import pandas as pd\n",
    "#import seaborn as sns\n",
    "\n",
    "# Treebank utils, found in \"../tools\"\n",
    "import udeval, udtree, lang_utils, dependency_classes\n",
    "\n",
    "is_labeled = True\n",
    "is_fine_grained_deprels = False\n",
    "file_format = \"conllx\"\n",
    "test_type = \"test\"\n",
    "\n",
    "system_output_base = \"/Users/jimmy/dev/edu/nlp-rod/udeval/resources/maltdefault_coarse_output_test_1-2/\"\n",
    "gold_output_base = \"/Users/jimmy/dev/edu/nlp-rod/udeval/resources/universaldependencies1-2/universal-dependencies-1.2/\"\n",
    "file_prefix = \"maltdefault\"\n",
    "\n",
    "system_files = lang_utils.get_system_output_paths(system_output_base, type_=test_type, format_=file_format)\n",
    "gold_files = lang_utils.get_ud_paths(gold_output_base, type_=test_type, format_=file_format, coarse=True)"
   ]
  },
  {
   "cell_type": "code",
   "execution_count": 9,
   "metadata": {
    "collapsed": false
   },
   "outputs": [
    {
     "data": {
      "text/html": [
       "<div>\n",
       "<table border=\"1\" class=\"dataframe\">\n",
       "  <thead>\n",
       "    <tr>\n",
       "      <th></th>\n",
       "      <th colspan=\"2\" halign=\"left\">Content</th>\n",
       "      <th colspan=\"2\" halign=\"left\">Function</th>\n",
       "    </tr>\n",
       "    <tr>\n",
       "      <th></th>\n",
       "      <th>precision</th>\n",
       "      <th>recall</th>\n",
       "      <th>precision</th>\n",
       "      <th>recall</th>\n",
       "    </tr>\n",
       "  </thead>\n",
       "  <tbody>\n",
       "    <tr>\n",
       "      <th>Arabic</th>\n",
       "      <td>0.716505</td>\n",
       "      <td>0.725658</td>\n",
       "      <td>0.825058</td>\n",
       "      <td>0.810317</td>\n",
       "    </tr>\n",
       "    <tr>\n",
       "      <th>Bulgarian</th>\n",
       "      <td>0.772891</td>\n",
       "      <td>0.776560</td>\n",
       "      <td>0.921854</td>\n",
       "      <td>0.916795</td>\n",
       "    </tr>\n",
       "    <tr>\n",
       "      <th>Croatian</th>\n",
       "      <td>0.674652</td>\n",
       "      <td>0.687672</td>\n",
       "      <td>0.820272</td>\n",
       "      <td>0.814315</td>\n",
       "    </tr>\n",
       "    <tr>\n",
       "      <th>Czech</th>\n",
       "      <td>0.778110</td>\n",
       "      <td>0.796339</td>\n",
       "      <td>0.890820</td>\n",
       "      <td>0.875164</td>\n",
       "    </tr>\n",
       "    <tr>\n",
       "      <th>Danish</th>\n",
       "      <td>0.690546</td>\n",
       "      <td>0.714676</td>\n",
       "      <td>0.898154</td>\n",
       "      <td>0.879813</td>\n",
       "    </tr>\n",
       "    <tr>\n",
       "      <th>English</th>\n",
       "      <td>0.784849</td>\n",
       "      <td>0.790791</td>\n",
       "      <td>0.921443</td>\n",
       "      <td>0.919656</td>\n",
       "    </tr>\n",
       "    <tr>\n",
       "      <th>Finnish</th>\n",
       "      <td>0.631938</td>\n",
       "      <td>0.635584</td>\n",
       "      <td>0.761481</td>\n",
       "      <td>0.762046</td>\n",
       "    </tr>\n",
       "    <tr>\n",
       "      <th>Gothic</th>\n",
       "      <td>0.616835</td>\n",
       "      <td>0.614317</td>\n",
       "      <td>0.804772</td>\n",
       "      <td>0.812409</td>\n",
       "    </tr>\n",
       "    <tr>\n",
       "      <th>Greek</th>\n",
       "      <td>0.651053</td>\n",
       "      <td>0.679462</td>\n",
       "      <td>0.894201</td>\n",
       "      <td>0.867292</td>\n",
       "    </tr>\n",
       "    <tr>\n",
       "      <th>Hebrew</th>\n",
       "      <td>0.697012</td>\n",
       "      <td>0.716423</td>\n",
       "      <td>0.922227</td>\n",
       "      <td>0.923529</td>\n",
       "    </tr>\n",
       "    <tr>\n",
       "      <th>Hindi</th>\n",
       "      <td>0.807023</td>\n",
       "      <td>0.814800</td>\n",
       "      <td>0.963245</td>\n",
       "      <td>0.962782</td>\n",
       "    </tr>\n",
       "    <tr>\n",
       "      <th>Italian</th>\n",
       "      <td>0.771964</td>\n",
       "      <td>0.774656</td>\n",
       "      <td>0.954366</td>\n",
       "      <td>0.954995</td>\n",
       "    </tr>\n",
       "    <tr>\n",
       "      <th>Norwegian</th>\n",
       "      <td>0.803790</td>\n",
       "      <td>0.803504</td>\n",
       "      <td>0.916245</td>\n",
       "      <td>0.931639</td>\n",
       "    </tr>\n",
       "    <tr>\n",
       "      <th>Old_Church_Slavonic</th>\n",
       "      <td>0.658627</td>\n",
       "      <td>0.666220</td>\n",
       "      <td>0.852444</td>\n",
       "      <td>0.836824</td>\n",
       "    </tr>\n",
       "    <tr>\n",
       "      <th>Persian</th>\n",
       "      <td>0.758404</td>\n",
       "      <td>0.769813</td>\n",
       "      <td>0.900920</td>\n",
       "      <td>0.880674</td>\n",
       "    </tr>\n",
       "    <tr>\n",
       "      <th>Polish</th>\n",
       "      <td>0.803204</td>\n",
       "      <td>0.804598</td>\n",
       "      <td>0.907010</td>\n",
       "      <td>0.903134</td>\n",
       "    </tr>\n",
       "    <tr>\n",
       "      <th>Portuguese</th>\n",
       "      <td>0.712555</td>\n",
       "      <td>0.730000</td>\n",
       "      <td>0.948301</td>\n",
       "      <td>0.941988</td>\n",
       "    </tr>\n",
       "    <tr>\n",
       "      <th>Slovenian</th>\n",
       "      <td>0.768859</td>\n",
       "      <td>0.781116</td>\n",
       "      <td>0.906062</td>\n",
       "      <td>0.899080</td>\n",
       "    </tr>\n",
       "    <tr>\n",
       "      <th>Spanish</th>\n",
       "      <td>0.692980</td>\n",
       "      <td>0.698730</td>\n",
       "      <td>0.918885</td>\n",
       "      <td>0.915484</td>\n",
       "    </tr>\n",
       "    <tr>\n",
       "      <th>Swedish</th>\n",
       "      <td>0.756714</td>\n",
       "      <td>0.764176</td>\n",
       "      <td>0.886657</td>\n",
       "      <td>0.874674</td>\n",
       "    </tr>\n",
       "  </tbody>\n",
       "</table>\n",
       "</div>"
      ],
      "text/plain": [
       "                      Content            Function          \n",
       "                    precision    recall precision    recall\n",
       "Arabic               0.716505  0.725658  0.825058  0.810317\n",
       "Bulgarian            0.772891  0.776560  0.921854  0.916795\n",
       "Croatian             0.674652  0.687672  0.820272  0.814315\n",
       "Czech                0.778110  0.796339  0.890820  0.875164\n",
       "Danish               0.690546  0.714676  0.898154  0.879813\n",
       "English              0.784849  0.790791  0.921443  0.919656\n",
       "Finnish              0.631938  0.635584  0.761481  0.762046\n",
       "Gothic               0.616835  0.614317  0.804772  0.812409\n",
       "Greek                0.651053  0.679462  0.894201  0.867292\n",
       "Hebrew               0.697012  0.716423  0.922227  0.923529\n",
       "Hindi                0.807023  0.814800  0.963245  0.962782\n",
       "Italian              0.771964  0.774656  0.954366  0.954995\n",
       "Norwegian            0.803790  0.803504  0.916245  0.931639\n",
       "Old_Church_Slavonic  0.658627  0.666220  0.852444  0.836824\n",
       "Persian              0.758404  0.769813  0.900920  0.880674\n",
       "Polish               0.803204  0.804598  0.907010  0.903134\n",
       "Portuguese           0.712555  0.730000  0.948301  0.941988\n",
       "Slovenian            0.768859  0.781116  0.906062  0.899080\n",
       "Spanish              0.692980  0.698730  0.918885  0.915484\n",
       "Swedish              0.756714  0.764176  0.886657  0.874674"
      ]
     },
     "execution_count": 9,
     "metadata": {},
     "output_type": "execute_result"
    }
   ],
   "source": [
    "las = pd.Series.from_csv('../data/' + file_prefix + '.las.csv')\n",
    "wlas = pd.Series.from_csv('../data/' + file_prefix + '.wlas.csv')\n",
    "content_function_precision_recall = pd.DataFrame.from_csv('../data/' + file_prefix + '.content_function.precision_recall.csv', header=[0,1])\n",
    "content_function_precision_recall"
   ]
  },
  {
   "cell_type": "code",
   "execution_count": 6,
   "metadata": {
    "collapsed": false
   },
   "outputs": [],
   "source": [
    "from collections import defaultdict\n",
    "\n",
    "def label_ratio(trees, label_class):\n",
    "    deprel_freqs = 0\n",
    "    total_deprels = 0\n",
    "    for tree in trees:\n",
    "        for deprel in tree.deprels:\n",
    "            label = deprel.split(\":\")[0]\n",
    "            total_deprels += 1\n",
    "            if label in label_class:\n",
    "                deprel_freqs += 1\n",
    "    deprel_dist = deprel_freqs / total_deprels\n",
    "    return deprel_dist\n",
    "\n",
    "def language_deprel_ratio(treebank_paths, label_class):\n",
    "    lang_deprels = {}\n",
    "    for lang, path in treebank_paths.items():\n",
    "        lang_deprels[lang] = label_ratio(udtree.from_files(path), label_class)\n",
    "    return lang_deprels\n",
    "\n",
    "\n",
    "#lang_function_rels.to_csv('../data/' + file_prefix + '.function_dist.csv')\n",
    "#lang_function_rels"
   ]
  },
  {
   "cell_type": "code",
   "execution_count": 16,
   "metadata": {
    "collapsed": false
   },
   "outputs": [],
   "source": [
    "lang_content_freq = pd.Series(language_deprel_ratio(gold_files, dependency_classes.content_dependents)).fillna(0)\n",
    "lang_function_freq = pd.Series(language_deprel_ratio(gold_files, dependency_classes.function_dependents)).fillna(0)\n",
    "content_function_freq = pd.concat([lang_content_freq, lang_function_freq], axis=1).rename(columns={0: 'C freq', 1: 'F freq'})\n",
    "content_function_freq.to_csv('../data/content_function_freq.csv')"
   ]
  },
  {
   "cell_type": "code",
   "execution_count": 17,
   "metadata": {
    "collapsed": false
   },
   "outputs": [],
   "source": [
    "lang_measures = pd.concat([content_function_freq, wlas, content_function_precision_recall], axis=1)\n",
    "lang_measures.rename(columns={0: 'WLAS', ('Content', 'precision'): 'C prec', ('Function', 'precision'): 'F prec', ('Content', 'recall'): 'C rec', ('Function', 'recall'): 'F rec'}, inplace=True)\n",
    "lang_measures.to_csv('../data/maltdefault.lang_measures.csv')"
   ]
  },
  {
   "cell_type": "code",
   "execution_count": 12,
   "metadata": {
    "collapsed": false
   },
   "outputs": [
    {
     "name": "stdout",
     "output_type": "stream",
     "text": [
      "0.714104429837\n"
     ]
    },
    {
     "data": {
      "image/png": "[encoded data removed]",
      "text/plain": [
       "<matplotlib.figure.Figure at 0x106e414e0>"
      ]
     },
     "metadata": {},
     "output_type": "display_data"
    }
   ],
   "source": [
    "function_precision = lang_measures[['Function freq', 'F prec']]\n",
    "function_precision.columns = ['Function deprels frequency ratio', 'Function deprels recall']\n",
    "\n",
    "ax = function_precision.plot(kind='scatter', x='Function deprels frequency ratio', y='Function deprels recall', figsize=(3,3), fontsize=6)\n",
    "#plt.plot(np.arange(0,0.6,0.1), (linr.slope*np.arange(0,0.6,0.1) + linr.intercept), '-')\n",
    "plt.xlabel(\"Function deprels frequency ratio\", fontsize=7)\n",
    "plt.ylabel(\"Function deprels parsing precision\", fontsize=7)\n",
    "for lang, x, y in function_precision.itertuples():\n",
    "    if lang == \"Old_Church_Slavonic\":\n",
    "        lang = \"Slavonic\"\n",
    "    ax.annotate(lang, (x, y), fontsize=6)\n",
    "\n",
    "corr = function_precision.corr().ix[0,1]\n",
    "print(corr)\n",
    "plt.xlim(0.1, 0.5)\n",
    "plt.ylim(0.75, 1.0)\n",
    "#ax.annotate(\"R = {0:.2f}\".format(corr), (0.12, 0.98))\n",
    "plt.tight_layout()\n",
    "plt.savefig(\"../paper/figures/function_ratio_vs_function_precision.pgf\")"
   ]
  },
  {
   "cell_type": "code",
   "execution_count": 13,
   "metadata": {
    "collapsed": false
   },
   "outputs": [
    {
     "ename": "NameError",
     "evalue": "name 'content_precision' is not defined",
     "output_type": "error",
     "traceback": [
      "\u001b[0;31m---------------------------------------------------------------------------\u001b[0m",
      "\u001b[0;31mNameError\u001b[0m                                 Traceback (most recent call last)",
      "\u001b[0;32m<ipython-input-13-542848a2ed67>\u001b[0m in \u001b[0;36m<module>\u001b[0;34m()\u001b[0m\n\u001b[1;32m      1\u001b[0m \u001b[0mfunction_precision\u001b[0m \u001b[0;34m=\u001b[0m \u001b[0mlang_measures\u001b[0m\u001b[0;34m[\u001b[0m\u001b[0;34m[\u001b[0m\u001b[0;34m'Content freq'\u001b[0m\u001b[0;34m,\u001b[0m \u001b[0;34m'C prec'\u001b[0m\u001b[0;34m]\u001b[0m\u001b[0;34m]\u001b[0m\u001b[0;34m\u001b[0m\u001b[0m\n\u001b[0;32m----> 2\u001b[0;31m \u001b[0mcontent_precision\u001b[0m\u001b[0;34m.\u001b[0m\u001b[0mcolumns\u001b[0m \u001b[0;34m=\u001b[0m \u001b[0;34m[\u001b[0m\u001b[0;34m'Content deprels frequency ratio'\u001b[0m\u001b[0;34m,\u001b[0m \u001b[0;34m'Content deprels LAS'\u001b[0m\u001b[0;34m]\u001b[0m\u001b[0;34m\u001b[0m\u001b[0m\n\u001b[0m\u001b[1;32m      3\u001b[0m \u001b[0max\u001b[0m \u001b[0;34m=\u001b[0m \u001b[0mcontent_precision\u001b[0m\u001b[0;34m.\u001b[0m\u001b[0mplot\u001b[0m\u001b[0;34m(\u001b[0m\u001b[0mkind\u001b[0m\u001b[0;34m=\u001b[0m\u001b[0;34m'scatter'\u001b[0m\u001b[0;34m,\u001b[0m \u001b[0mx\u001b[0m\u001b[0;34m=\u001b[0m\u001b[0;34m'Content deprels frequency ratio'\u001b[0m\u001b[0;34m,\u001b[0m \u001b[0my\u001b[0m\u001b[0;34m=\u001b[0m\u001b[0;34m'Content deprels LAS'\u001b[0m\u001b[0;34m,\u001b[0m \u001b[0mfigsize\u001b[0m\u001b[0;34m=\u001b[0m\u001b[0;34m(\u001b[0m\u001b[0;36m3\u001b[0m\u001b[0;34m,\u001b[0m\u001b[0;36m3\u001b[0m\u001b[0;34m)\u001b[0m\u001b[0;34m,\u001b[0m \u001b[0mfontsize\u001b[0m\u001b[0;34m=\u001b[0m\u001b[0;36m6\u001b[0m\u001b[0;34m)\u001b[0m\u001b[0;34m\u001b[0m\u001b[0m\n\u001b[1;32m      4\u001b[0m \u001b[0mplt\u001b[0m\u001b[0;34m.\u001b[0m\u001b[0mxlabel\u001b[0m\u001b[0;34m(\u001b[0m\u001b[0;34m\"Content deprels frequency ratio\"\u001b[0m\u001b[0;34m,\u001b[0m \u001b[0mfontsize\u001b[0m\u001b[0;34m=\u001b[0m\u001b[0;36m7\u001b[0m\u001b[0;34m)\u001b[0m\u001b[0;34m\u001b[0m\u001b[0m\n\u001b[1;32m      5\u001b[0m \u001b[0mplt\u001b[0m\u001b[0;34m.\u001b[0m\u001b[0mylabel\u001b[0m\u001b[0;34m(\u001b[0m\u001b[0;34m\"Content deprels parsing precision\"\u001b[0m\u001b[0;34m,\u001b[0m \u001b[0mfontsize\u001b[0m\u001b[0;34m=\u001b[0m\u001b[0;36m7\u001b[0m\u001b[0;34m)\u001b[0m\u001b[0;34m\u001b[0m\u001b[0m\n",
      "\u001b[0;31mNameError\u001b[0m: name 'content_precision' is not defined"
     ]
    }
   ],
   "source": [
    "function_precision = lang_measures[['Content freq', 'C prec']]\n",
    "content_precision.columns = ['Content deprels frequency ratio', 'Content deprels LAS']\n",
    "ax = content_precision.plot(kind='scatter', x='Content deprels frequency ratio', y='Content deprels LAS', figsize=(3,3), fontsize=6)\n",
    "plt.xlabel(\"Content deprels frequency ratio\", fontsize=7)\n",
    "plt.ylabel(\"Content deprels parsing precision\", fontsize=7)\n",
    "for lang, x, y in content_precision.itertuples():\n",
    "    if lang == \"Old_Church_Slavonic\":\n",
    "        lang = \"Slavonic\"\n",
    "    ax.annotate(lang, (x, y), fontsize=6)\n",
    "    \n",
    "corr = content_precision.corr().ix[0,1]\n",
    "print(corr)\n",
    "#ax.annotate(\"$\\\\rho = {0:.2f}$\".format(corr), (0.46, 0.84), size=\"x-large\")\n",
    "plt.tight_layout()\n",
    "plt.savefig(\"../paper/figures/content_deprel_las_ratio_corr.pgf\")"
   ]
  }
 ],
 "metadata": {
  "kernelspec": {
   "display_name": "Python 3",
   "language": "python",
   "name": "python3"
  },
  "language_info": {
   "codemirror_mode": {
    "name": "ipython",
    "version": 3
   },
   "file_extension": ".py",
   "mimetype": "text/x-python",
   "name": "python",
   "nbconvert_exporter": "python",
   "pygments_lexer": "ipython3",
   "version": "3.4.3"
  }
 },
 "nbformat": 4,
 "nbformat_minor": 0
}
