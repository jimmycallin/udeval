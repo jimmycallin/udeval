{
 "cells": [
  {
   "cell_type": "markdown",
   "metadata": {},
   "source": [
    "# How much does functional dependents contribute to the overall LAS?\n",
    "\n",
    "We are interested in looking at the contribution of functional dependents to the overall LAS score. To do this, we look at the correlation between the LAS score of functional dependency classes, plotted against the frequency ratio of the dependency class. If there is a correlation between how common the dependency class is in the language and how common the class is, we can draw the conclusion that the more common functional dependencies are in a language, the easier it is to parse.\n",
    "\n",
    "We also expect that such a correlation cannot be found in content classes.\n",
    "\n",
    "## Summary\n",
    "\n",
    "There is such a correlation for the functional dependency class, and we lack the same correlation for content classes."
   ]
  },
  {
   "cell_type": "code",
   "execution_count": 1,
   "metadata": {
    "collapsed": false
   },
   "outputs": [],
   "source": [
    "# Matplotlib\n",
    "%matplotlib inline\n",
    "import matplotlib as mpl\n",
    "from matplotlib import pylab\n",
    "import matplotlib.pyplot as plt\n",
    "pylab.rcParams['figure.figsize'] = (10.0, 7.0)\n",
    "mpl.style.use('ggplot')\n",
    "from matplotlib.backends.backend_pgf import FigureCanvasPgf\n",
    "mpl.backend_bases.register_backend('pgf', FigureCanvasPgf)\n",
    "\n",
    "# Remove warnings\n",
    "import warnings\n",
    "warnings.filterwarnings('ignore')\n",
    "\n",
    "import sys, os\n",
    "from os.path import join\n",
    "sys.path.append(\"../tools/\")\n",
    "from collections import defaultdict\n",
    "\n",
    "# Data management libraries\n",
    "import pandas as pd\n",
    "#import seaborn as sns\n",
    "\n",
    "# Treebank utils, found in \"../tools\"\n",
    "import udeval, udtree, lang_utils, dependency_classes\n",
    "\n",
    "is_labeled = True\n",
    "is_fine_grained_deprels = False\n",
    "file_format = \"conllx\"\n",
    "test_type = \"test\"\n",
    "\n",
    "system_output_base = \"/Users/jimmy/dev/edu/nlp-rod/udeval/resources/maltdefault_coarse_output_test_1-2/\"\n",
    "gold_output_base = \"/Users/jimmy/dev/edu/nlp-rod/udeval/resources/universaldependencies1-2/universal-dependencies-1.2/\"\n",
    "file_prefix = \"maltdefault\"\n",
    "\n",
    "system_files = lang_utils.get_system_output_paths(system_output_base, type_=test_type, format_=file_format)\n",
    "gold_files = lang_utils.get_ud_paths(gold_output_base, type_=test_type, format_=file_format, coarse=True)"
   ]
  },
  {
   "cell_type": "code",
   "execution_count": 2,
   "metadata": {
    "collapsed": false
   },
   "outputs": [
    {
     "data": {
      "text/html": [
       "<div>\n",
       "<table border=\"1\" class=\"dataframe\">\n",
       "  <thead>\n",
       "    <tr>\n",
       "      <th></th>\n",
       "      <th colspan=\"2\" halign=\"left\">Function</th>\n",
       "      <th colspan=\"2\" halign=\"left\">Nonsemantic</th>\n",
       "      <th colspan=\"2\" halign=\"left\">Content</th>\n",
       "    </tr>\n",
       "    <tr>\n",
       "      <th></th>\n",
       "      <th>precision</th>\n",
       "      <th>recall</th>\n",
       "      <th>precision</th>\n",
       "      <th>recall</th>\n",
       "      <th>precision</th>\n",
       "      <th>recall</th>\n",
       "    </tr>\n",
       "  </thead>\n",
       "  <tbody>\n",
       "    <tr>\n",
       "      <th>Arabic</th>\n",
       "      <td>0.825058</td>\n",
       "      <td>0.810317</td>\n",
       "      <td>0.779388</td>\n",
       "      <td>0.749226</td>\n",
       "      <td>0.716505</td>\n",
       "      <td>0.725658</td>\n",
       "    </tr>\n",
       "    <tr>\n",
       "      <th>Basque</th>\n",
       "      <td>0.857873</td>\n",
       "      <td>0.823987</td>\n",
       "      <td>0.684042</td>\n",
       "      <td>0.593332</td>\n",
       "      <td>0.574014</td>\n",
       "      <td>0.600554</td>\n",
       "    </tr>\n",
       "    <tr>\n",
       "      <th>Bulgarian</th>\n",
       "      <td>0.921854</td>\n",
       "      <td>0.916795</td>\n",
       "      <td>0.818064</td>\n",
       "      <td>0.812098</td>\n",
       "      <td>0.772891</td>\n",
       "      <td>0.776560</td>\n",
       "    </tr>\n",
       "    <tr>\n",
       "      <th>Croatian</th>\n",
       "      <td>0.820272</td>\n",
       "      <td>0.814315</td>\n",
       "      <td>0.637931</td>\n",
       "      <td>0.594855</td>\n",
       "      <td>0.674652</td>\n",
       "      <td>0.687672</td>\n",
       "    </tr>\n",
       "    <tr>\n",
       "      <th>Czech</th>\n",
       "      <td>0.890820</td>\n",
       "      <td>0.875164</td>\n",
       "      <td>0.746595</td>\n",
       "      <td>0.695466</td>\n",
       "      <td>0.778110</td>\n",
       "      <td>0.796339</td>\n",
       "    </tr>\n",
       "    <tr>\n",
       "      <th>Danish</th>\n",
       "      <td>0.898154</td>\n",
       "      <td>0.879813</td>\n",
       "      <td>0.728411</td>\n",
       "      <td>0.662116</td>\n",
       "      <td>0.690546</td>\n",
       "      <td>0.714676</td>\n",
       "    </tr>\n",
       "    <tr>\n",
       "      <th>Dutch</th>\n",
       "      <td>0.844731</td>\n",
       "      <td>0.791076</td>\n",
       "      <td>0.648472</td>\n",
       "      <td>0.453435</td>\n",
       "      <td>0.571343</td>\n",
       "      <td>0.631405</td>\n",
       "    </tr>\n",
       "    <tr>\n",
       "      <th>English</th>\n",
       "      <td>0.921443</td>\n",
       "      <td>0.919656</td>\n",
       "      <td>0.775000</td>\n",
       "      <td>0.751632</td>\n",
       "      <td>0.784849</td>\n",
       "      <td>0.790791</td>\n",
       "    </tr>\n",
       "    <tr>\n",
       "      <th>Finnish</th>\n",
       "      <td>0.761481</td>\n",
       "      <td>0.762046</td>\n",
       "      <td>0.711940</td>\n",
       "      <td>0.692308</td>\n",
       "      <td>0.631938</td>\n",
       "      <td>0.635584</td>\n",
       "    </tr>\n",
       "    <tr>\n",
       "      <th>Gothic</th>\n",
       "      <td>0.804772</td>\n",
       "      <td>0.812409</td>\n",
       "      <td>0.732759</td>\n",
       "      <td>0.745614</td>\n",
       "      <td>0.616835</td>\n",
       "      <td>0.614317</td>\n",
       "    </tr>\n",
       "    <tr>\n",
       "      <th>Greek</th>\n",
       "      <td>0.894201</td>\n",
       "      <td>0.867292</td>\n",
       "      <td>0.619962</td>\n",
       "      <td>0.544688</td>\n",
       "      <td>0.651053</td>\n",
       "      <td>0.679462</td>\n",
       "    </tr>\n",
       "    <tr>\n",
       "      <th>Hebrew</th>\n",
       "      <td>0.922227</td>\n",
       "      <td>0.923529</td>\n",
       "      <td>0.690780</td>\n",
       "      <td>0.612194</td>\n",
       "      <td>0.697012</td>\n",
       "      <td>0.716423</td>\n",
       "    </tr>\n",
       "    <tr>\n",
       "      <th>Hindi</th>\n",
       "      <td>0.963245</td>\n",
       "      <td>0.962782</td>\n",
       "      <td>0.956348</td>\n",
       "      <td>0.895436</td>\n",
       "      <td>0.807023</td>\n",
       "      <td>0.814800</td>\n",
       "    </tr>\n",
       "    <tr>\n",
       "      <th>Italian</th>\n",
       "      <td>0.954366</td>\n",
       "      <td>0.954995</td>\n",
       "      <td>0.741564</td>\n",
       "      <td>0.728964</td>\n",
       "      <td>0.771964</td>\n",
       "      <td>0.774656</td>\n",
       "    </tr>\n",
       "    <tr>\n",
       "      <th>Norwegian</th>\n",
       "      <td>0.916245</td>\n",
       "      <td>0.931639</td>\n",
       "      <td>0.843332</td>\n",
       "      <td>0.807954</td>\n",
       "      <td>0.803790</td>\n",
       "      <td>0.803504</td>\n",
       "    </tr>\n",
       "    <tr>\n",
       "      <th>Old_Church_Slavonic</th>\n",
       "      <td>0.852444</td>\n",
       "      <td>0.836824</td>\n",
       "      <td>0.834254</td>\n",
       "      <td>0.743842</td>\n",
       "      <td>0.658627</td>\n",
       "      <td>0.666220</td>\n",
       "    </tr>\n",
       "    <tr>\n",
       "      <th>Persian</th>\n",
       "      <td>0.900920</td>\n",
       "      <td>0.880674</td>\n",
       "      <td>0.756857</td>\n",
       "      <td>0.728245</td>\n",
       "      <td>0.758404</td>\n",
       "      <td>0.769813</td>\n",
       "    </tr>\n",
       "    <tr>\n",
       "      <th>Polish</th>\n",
       "      <td>0.907010</td>\n",
       "      <td>0.903134</td>\n",
       "      <td>0.861301</td>\n",
       "      <td>0.859829</td>\n",
       "      <td>0.803204</td>\n",
       "      <td>0.804598</td>\n",
       "    </tr>\n",
       "    <tr>\n",
       "      <th>Portuguese</th>\n",
       "      <td>0.948301</td>\n",
       "      <td>0.941988</td>\n",
       "      <td>0.665428</td>\n",
       "      <td>0.621528</td>\n",
       "      <td>0.712555</td>\n",
       "      <td>0.730000</td>\n",
       "    </tr>\n",
       "    <tr>\n",
       "      <th>Slovenian</th>\n",
       "      <td>0.906062</td>\n",
       "      <td>0.899080</td>\n",
       "      <td>0.789474</td>\n",
       "      <td>0.748011</td>\n",
       "      <td>0.768859</td>\n",
       "      <td>0.781116</td>\n",
       "    </tr>\n",
       "    <tr>\n",
       "      <th>Spanish</th>\n",
       "      <td>0.918885</td>\n",
       "      <td>0.915484</td>\n",
       "      <td>0.649880</td>\n",
       "      <td>0.634660</td>\n",
       "      <td>0.692980</td>\n",
       "      <td>0.698730</td>\n",
       "    </tr>\n",
       "    <tr>\n",
       "      <th>Swedish</th>\n",
       "      <td>0.886657</td>\n",
       "      <td>0.874674</td>\n",
       "      <td>0.715663</td>\n",
       "      <td>0.706134</td>\n",
       "      <td>0.756714</td>\n",
       "      <td>0.764176</td>\n",
       "    </tr>\n",
       "  </tbody>\n",
       "</table>\n",
       "</div>"
      ],
      "text/plain": [
       "                     Function           Nonsemantic             Content  \\\n",
       "                    precision    recall   precision    recall precision   \n",
       "Arabic               0.825058  0.810317    0.779388  0.749226  0.716505   \n",
       "Basque               0.857873  0.823987    0.684042  0.593332  0.574014   \n",
       "Bulgarian            0.921854  0.916795    0.818064  0.812098  0.772891   \n",
       "Croatian             0.820272  0.814315    0.637931  0.594855  0.674652   \n",
       "Czech                0.890820  0.875164    0.746595  0.695466  0.778110   \n",
       "Danish               0.898154  0.879813    0.728411  0.662116  0.690546   \n",
       "Dutch                0.844731  0.791076    0.648472  0.453435  0.571343   \n",
       "English              0.921443  0.919656    0.775000  0.751632  0.784849   \n",
       "Finnish              0.761481  0.762046    0.711940  0.692308  0.631938   \n",
       "Gothic               0.804772  0.812409    0.732759  0.745614  0.616835   \n",
       "Greek                0.894201  0.867292    0.619962  0.544688  0.651053   \n",
       "Hebrew               0.922227  0.923529    0.690780  0.612194  0.697012   \n",
       "Hindi                0.963245  0.962782    0.956348  0.895436  0.807023   \n",
       "Italian              0.954366  0.954995    0.741564  0.728964  0.771964   \n",
       "Norwegian            0.916245  0.931639    0.843332  0.807954  0.803790   \n",
       "Old_Church_Slavonic  0.852444  0.836824    0.834254  0.743842  0.658627   \n",
       "Persian              0.900920  0.880674    0.756857  0.728245  0.758404   \n",
       "Polish               0.907010  0.903134    0.861301  0.859829  0.803204   \n",
       "Portuguese           0.948301  0.941988    0.665428  0.621528  0.712555   \n",
       "Slovenian            0.906062  0.899080    0.789474  0.748011  0.768859   \n",
       "Spanish              0.918885  0.915484    0.649880  0.634660  0.692980   \n",
       "Swedish              0.886657  0.874674    0.715663  0.706134  0.756714   \n",
       "\n",
       "                               \n",
       "                       recall  \n",
       "Arabic               0.725658  \n",
       "Basque               0.600554  \n",
       "Bulgarian            0.776560  \n",
       "Croatian             0.687672  \n",
       "Czech                0.796339  \n",
       "Danish               0.714676  \n",
       "Dutch                0.631405  \n",
       "English              0.790791  \n",
       "Finnish              0.635584  \n",
       "Gothic               0.614317  \n",
       "Greek                0.679462  \n",
       "Hebrew               0.716423  \n",
       "Hindi                0.814800  \n",
       "Italian              0.774656  \n",
       "Norwegian            0.803504  \n",
       "Old_Church_Slavonic  0.666220  \n",
       "Persian              0.769813  \n",
       "Polish               0.804598  \n",
       "Portuguese           0.730000  \n",
       "Slovenian            0.781116  \n",
       "Spanish              0.698730  \n",
       "Swedish              0.764176  "
      ]
     },
     "execution_count": 2,
     "metadata": {},
     "output_type": "execute_result"
    }
   ],
   "source": [
    "las_scores = pd.Series.from_csv('../data/' + file_prefix + '.las.csv')\n",
    "content_function_las = pd.DataFrame.from_csv('../data/' + file_prefix + '.content_function_deprels.las.csv', header=[0,1])\n",
    "content_function_las"
   ]
  },
  {
   "cell_type": "code",
   "execution_count": 3,
   "metadata": {
    "collapsed": false
   },
   "outputs": [
    {
     "data": {
      "text/plain": [
       "Arabic                 0.263337\n",
       "Basque                 0.200460\n",
       "Bulgarian              0.289500\n",
       "Croatian               0.233697\n",
       "Czech                  0.218871\n",
       "Danish                 0.291298\n",
       "Dutch                  0.341092\n",
       "English                0.287655\n",
       "Finnish                0.147593\n",
       "Gothic                 0.265607\n",
       "Greek                  0.357622\n",
       "Hebrew                 0.350515\n",
       "Hindi                  0.351877\n",
       "Italian                0.415906\n",
       "Norwegian              0.317074\n",
       "Old_Church_Slavonic    0.225635\n",
       "Persian                0.277743\n",
       "Polish                 0.195407\n",
       "Portuguese             0.358446\n",
       "Slovenian              0.286070\n",
       "Spanish                0.407645\n",
       "Swedish                0.319527\n",
       "dtype: float64"
      ]
     },
     "execution_count": 3,
     "metadata": {},
     "output_type": "execute_result"
    }
   ],
   "source": [
    "from collections import defaultdict\n",
    "\n",
    "def label_ratio(trees, label_class):\n",
    "    deprel_freqs = 0\n",
    "    total_deprels = 0\n",
    "    for tree in trees:\n",
    "        for deprel in tree.deprels:\n",
    "            label = deprel.split(\":\")[0]\n",
    "            total_deprels += 1\n",
    "            if label in label_class:\n",
    "                deprel_freqs += 1\n",
    "    deprel_dist = deprel_freqs / total_deprels\n",
    "    return deprel_dist\n",
    "\n",
    "def language_deprel_ratio(treebank_paths, label_class):\n",
    "    lang_deprels = {}\n",
    "    for lang, path in treebank_paths.items():\n",
    "        lang_deprels[lang] = label_ratio(udtree.from_files(path), label_class)\n",
    "    return lang_deprels\n",
    "\n",
    "lang_function_rels = pd.Series(language_deprel_ratio(gold_files, dependency_classes.function_dependents)).fillna(0)\n",
    "lang_function_rels.to_csv('../data/' + file_prefix + '.function_dist.csv')\n",
    "lang_function_rels"
   ]
  },
  {
   "cell_type": "code",
   "execution_count": 38,
   "metadata": {
    "collapsed": false
   },
   "outputs": [
    {
     "name": "stdout",
     "output_type": "stream",
     "text": [
      "0.666145320824\n"
     ]
    },
    {
     "data": {
      "image/png": "[encoded data removed]",
      "text/plain": [
       "<matplotlib.figure.Figure at 0x104a3ab38>"
      ]
     },
     "metadata": {},
     "output_type": "display_data"
    }
   ],
   "source": [
    "function_precision = pd.concat([lang_function_rels, content_function_las['Function']['precision']], axis=1)\n",
    "function_precision.columns = ['Function deprels frequency ratio', 'Function deprels recall']\n",
    "\n",
    "#from  scipy.stats import linregress\n",
    "#linr = linregress(function_precision['Function deprels frequency ratio'], function_precision['Function deprels LAS'])\n",
    "\n",
    "ax = function_precision.plot(kind='scatter', x='Function deprels frequency ratio', y='Function deprels recall', figsize=(3,3), fontsize=6)\n",
    "#plt.plot(np.arange(0,0.6,0.1), (linr.slope*np.arange(0,0.6,0.1) + linr.intercept), '-')\n",
    "plt.xlabel(\"Function deprels frequency ratio\", fontsize=7)\n",
    "plt.ylabel(\"Function deprels parsing precision\", fontsize=7)\n",
    "for lang, x, y in function_precision.itertuples():\n",
    "    if lang == \"Old_Church_Slavonic\":\n",
    "        lang = \"Slavonic\"\n",
    "    ax.annotate(lang, (x, y), fontsize=6)\n",
    "\n",
    "corr = function_precision.corr().ix[0,1]\n",
    "print(corr)\n",
    "plt.xlim(0.1, 0.5)\n",
    "plt.ylim(0.75, 1.0)\n",
    "#ax.annotate(\"R = {0:.2f}\".format(corr), (0.12, 0.98))\n",
    "plt.tight_layout()\n",
    "plt.savefig(\"../paper/figures/function_deprel_las_ratio_corr.pgf\")"
   ]
  },
  {
   "cell_type": "code",
   "execution_count": 29,
   "metadata": {
    "collapsed": false
   },
   "outputs": [
    {
     "data": {
      "text/plain": [
       "LinregressResult(slope=0.50404182766712213, intercept=0.73047756884939408, rvalue=0.62311816267133169, pvalue=0.0019490439306524953, stderr=0.14146820482676106)"
      ]
     },
     "execution_count": 29,
     "metadata": {},
     "output_type": "execute_result"
    }
   ],
   "source": []
  },
  {
   "cell_type": "code",
   "execution_count": 5,
   "metadata": {
    "collapsed": false
   },
   "outputs": [],
   "source": [
    "core_las = pd.DataFrame.from_csv('../data/maltdefault.ud_classes.las.csv', header=[0,1])['core']['precision']\n",
    "core_ratio = pd.Series(language_deprel_ratio(gold_files, dependency_classes.core_dependents))\n",
    "core_las_ratio = pd.concat([core_las, core_ratio], axis=1)\n",
    "core_las_ratio.columns = ['Core deprels frequency ratio', 'Core deprels LAS']"
   ]
  },
  {
   "cell_type": "code",
   "execution_count": 6,
   "metadata": {
    "collapsed": false
   },
   "outputs": [
    {
     "data": {
      "image/png": "[encoded data removed]",
      "text/plain": [
       "<matplotlib.figure.Figure at 0x108f97e80>"
      ]
     },
     "metadata": {},
     "output_type": "display_data"
    }
   ],
   "source": [
    "ax = core_las_ratio.plot(kind='scatter', x='Core deprels frequency ratio', y='Core deprels LAS', figsize=(11,11))\n",
    "for lang, x, y in core_las_ratio.itertuples():\n",
    "    ax.annotate(lang, (x, y))"
   ]
  },
  {
   "cell_type": "code",
   "execution_count": 36,
   "metadata": {
    "collapsed": false
   },
   "outputs": [
    {
     "name": "stdout",
     "output_type": "stream",
     "text": [
      "-0.331596899515\n"
     ]
    },
    {
     "data": {
      "image/png": "[encoded data removed]",
      "text/plain": [
       "<matplotlib.figure.Figure at 0x1075c9208>"
      ]
     },
     "metadata": {},
     "output_type": "display_data"
    }
   ],
   "source": [
    "lang_content_rels = pd.Series(language_deprel_ratio(gold_files, dependency_classes.content_dependents)).fillna(0)\n",
    "lang_content_rels.to_csv('../data/' + file_prefix + '.content_dist.csv')\n",
    "content_precision = pd.concat([lang_content_rels, content_function_las['Content']['recall']], axis=1)\n",
    "content_precision.columns = ['Content deprels frequency ratio', 'Content deprels LAS']\n",
    "ax = content_precision.plot(kind='scatter', x='Content deprels frequency ratio', y='Content deprels LAS', figsize=(3,3), fontsize=6)\n",
    "plt.xlabel(\"Content deprels frequency ratio\", fontsize=7)\n",
    "plt.ylabel(\"Content deprels parsing precision\", fontsize=7)\n",
    "for lang, x, y in content_precision.itertuples():\n",
    "    if lang == \"Old_Church_Slavonic\":\n",
    "        lang = \"Slavonic\"\n",
    "    ax.annotate(lang, (x, y), fontsize=6)\n",
    "    \n",
    "corr = content_precision.corr().ix[0,1]\n",
    "print(corr)\n",
    "#ax.annotate(\"$\\\\rho = {0:.2f}$\".format(corr), (0.46, 0.84), size=\"x-large\")\n",
    "plt.tight_layout()\n",
    "plt.savefig(\"../paper/figures/content_deprel_las_ratio_corr.pgf\")"
   ]
  },
  {
   "cell_type": "code",
   "execution_count": null,
   "metadata": {
    "collapsed": true
   },
   "outputs": [],
   "source": []
  },
  {
   "cell_type": "code",
   "execution_count": null,
   "metadata": {
    "collapsed": true
   },
   "outputs": [],
   "source": []
  }
 ],
 "metadata": {
  "kernelspec": {
   "display_name": "Python 3",
   "language": "python",
   "name": "python3"
  },
  "language_info": {
   "codemirror_mode": {
    "name": "ipython",
    "version": 3
   },
   "file_extension": ".py",
   "mimetype": "text/x-python",
   "name": "python",
   "nbconvert_exporter": "python",
   "pygments_lexer": "ipython3",
   "version": "3.4.3"
  }
 },
 "nbformat": 4,
 "nbformat_minor": 0
}
