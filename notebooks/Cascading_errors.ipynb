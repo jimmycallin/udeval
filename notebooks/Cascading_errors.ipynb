{
 "cells": [
  {
   "cell_type": "code",
   "execution_count": 6,
   "metadata": {
    "collapsed": false
   },
   "outputs": [],
   "source": [
    "# Matplotlib\n",
    "%matplotlib inline\n",
    "import matplotlib as mpl\n",
    "from matplotlib import pylab\n",
    "import matplotlib.pyplot as plt\n",
    "pylab.rcParams['figure.figsize'] = (10.0, 7.0)\n",
    "mpl.style.use('ggplot')\n",
    "from matplotlib.backends.backend_pgf import FigureCanvasPgf\n",
    "mpl.backend_bases.register_backend('pgf', FigureCanvasPgf)\n",
    "\n",
    "# Remove warnings\n",
    "import warnings\n",
    "warnings.filterwarnings('ignore')\n",
    "\n",
    "import sys, os\n",
    "sys.path.append(\"../tools/\")\n",
    "from collections import defaultdict\n",
    "\n",
    "# Data management libraries\n",
    "import pandas as pd\n",
    "#import seaborn as sns\n",
    "\n",
    "# Treebank utils, found in \"../tools\"\n",
    "import udeval, lang_utils, dependency_classes, udtree\n",
    "\n",
    "is_labeled = True\n",
    "is_fine_grained_deprels = False\n",
    "file_format = \"conllx\"\n",
    "test_type = \"test\"\n",
    "\n",
    "system_output_base = \"/Users/jimmy/dev/edu/nlp-rod/udeval/resources/maltdefault_coarse_output_test_1-2/\"\n",
    "gold_output_base = \"/Users/jimmy/dev/edu/nlp-rod/udeval/resources/universaldependencies1-2/universal-dependencies-1.2/\"\n",
    "file_prefix = \"maltdefault\"\n",
    "\n",
    "system_files = lang_utils.get_system_output_paths(system_output_base, type_=test_type, format_=file_format)\n",
    "gold_files = lang_utils.get_ud_paths(gold_output_base, type_=test_type, format_=file_format, coarse=not is_fine_grained_deprels)\n",
    "\n",
    "def labeled_attachment_scores():\n",
    "    las = {}\n",
    "    for lang, system_path in system_files.items():\n",
    "        s_out = system_path\n",
    "        g_out = gold_files[lang]\n",
    "        score = udeval.attachment_score(s_out, g_out, labeled=is_labeled, fine_grained_deprels=is_fine_grained_deprels)\n",
    "        las[lang] = score\n",
    "    return pd.Series(las)\n",
    "\n",
    "def averaged_weighted_attachment_scores():\n",
    "    wlas = {}\n",
    "    wde = pd.Series.from_csv('../data/function_content_degree.wde.csv').to_dict()\n",
    "    wde['punct'] = 0\n",
    "    for lang, system_path in system_files.items():\n",
    "        s_out = system_path\n",
    "        g_out = gold_files[lang]\n",
    "        score = udeval.weighted_las(s_out, g_out, wde)\n",
    "        wlas[lang] = score\n",
    "    return pd.Series(wlas)"
   ]
  },
  {
   "cell_type": "code",
   "execution_count": 14,
   "metadata": {
    "collapsed": false
   },
   "outputs": [],
   "source": [
    "gtrees = list(udtree.from_files(gold_files['Swedish']))\n",
    "strees = list(udtree.from_files(system_files['Swedish']))"
   ]
  },
  {
   "cell_type": "code",
   "execution_count": 23,
   "metadata": {
    "collapsed": false
   },
   "outputs": [],
   "source": [
    "wde = pd.Series.from_csv('../data/function_content_degree.wde.csv').to_dict()\n",
    "wde['punct'] = 0\n",
    "tot = sum([wde[x] for x in gtrees[1].deprels])"
   ]
  },
  {
   "cell_type": "code",
   "execution_count": 24,
   "metadata": {
    "collapsed": false
   },
   "outputs": [
    {
     "name": "stdout",
     "output_type": "stream",
     "text": [
      "['nsubj', 'root', 'nsubj', 'case', 'mwe', 'det', 'dobj', 'punct']\n"
     ]
    },
    {
     "data": {
      "text/plain": [
       "0.80880515194556057"
      ]
     },
     "execution_count": 24,
     "metadata": {},
     "output_type": "execute_result"
    }
   ],
   "source": [
    "print([x for x in strees[1].deprels])\n",
    "sum([wde[x] for x in gtrees[1].deprels][1:]) / tot"
   ]
  },
  {
   "cell_type": "code",
   "execution_count": 44,
   "metadata": {
    "collapsed": false
   },
   "outputs": [
    {
     "data": {
      "text/plain": [
       "0.7788445254641856"
      ]
     },
     "execution_count": 44,
     "metadata": {},
     "output_type": "execute_result"
    }
   ],
   "source": [
    "udeval.root_distance_las('../resources/universaldependencies1-2/universal-dependencies-1.2/UD_Swedish/sv-ud-test.conllx', '../resources/maltdefault_coarse_output_test_1-2/Swedish.conllx')"
   ]
  }
 ],
 "metadata": {
  "kernelspec": {
   "display_name": "Python 3",
   "language": "python",
   "name": "python3"
  },
  "language_info": {
   "codemirror_mode": {
    "name": "ipython",
    "version": 3
   },
   "file_extension": ".py",
   "mimetype": "text/x-python",
   "name": "python",
   "nbconvert_exporter": "python",
   "pygments_lexer": "ipython3",
   "version": "3.4.3"
  }
 },
 "nbformat": 4,
 "nbformat_minor": 0
}
