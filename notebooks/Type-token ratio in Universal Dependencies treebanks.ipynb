{
 "cells": [
  {
   "cell_type": "markdown",
   "metadata": {},
   "source": [
    "# Type-token ratio in Universal Dependencies treebanks"
   ]
  },
  {
   "cell_type": "markdown",
   "metadata": {},
   "source": [
    "For measuring the degree of synthesis in a language, the type-token ratio has been used as a sort of latent variable. The assumption is that languages with a high degree of synthesis will have a higher type/token ratio.\n",
    "\n",
    "Here, we calculate the ratio for all languages available in the UD treebanks (1.1)."
   ]
  },
  {
   "cell_type": "code",
   "execution_count": 1,
   "metadata": {
    "collapsed": false
   },
   "outputs": [],
   "source": [
    "%matplotlib inline\n",
    "import matplotlib\n",
    "from matplotlib import pylab\n",
    "pylab.rcParams['figure.figsize'] = (10.0, 7.0)\n",
    "matplotlib.style.use('ggplot')\n",
    "\n",
    "treebank_path = \"/Users/jimmy/dev/edu/nlp-rod/udeval/resources/universaldependencies1-1/ud-treebanks-v1.1\"\n",
    "\n",
    "# Remove warnings\n",
    "import warnings\n",
    "warnings.filterwarnings('ignore')\n",
    "\n",
    "import sys\n",
    "sys.path.append('../tools/')\n",
    "import udtree\n",
    "\n",
    "import pandas as pd\n",
    "\n",
    "from os import listdir\n",
    "from os.path import join\n",
    "from collections import defaultdict\n",
    "\n",
    "# Extract treebank paths. Lists are necessary since Czech has multiple files.\n",
    "train_files = {'UD_Basque': ['eu-ud-train.conllu'], \n",
    "              'UD_Croatian': ['hr-ud-train.conllu'], \n",
    "              'UD_Danish': ['da-ud-train.conllu'], \n",
    "              'UD_Finnish': ['fi-ud-train.conllu'], \n",
    "              'UD_French': ['fr-ud-train.conllu'], \n",
    "              'UD_Greek': ['el-ud-train.conllu'], \n",
    "              'UD_Hungarian': ['hu-ud-train.conllu'], \n",
    "              'UD_Irish': ['ga-ud-train.conllu'], \n",
    "              'UD_Persian': ['fa-ud-train.conllu'], \n",
    "              'UD_Swedish': ['sv-ud-train.conllu'], \n",
    "              'UD_Bulgarian': ['bg-ud-train.conllu'], \n",
    "              'UD_Czech': ['cs-ud-train-c.conllu',\n",
    "                           'cs-ud-train-m.conllu',\n",
    "                           'cs-ud-train-v.conllu',\n",
    "                           'cs-ud-train-l.conllu'], \n",
    "              'UD_English': ['en-ud-train.conllu'], \n",
    "              'UD_Finnish-FTB': ['fi_ftb-ud-train.conllu'], \n",
    "              'UD_German': ['de-ud-train.conllu'], \n",
    "              'UD_Hebrew': ['he-ud-train.conllu'], \n",
    "              'UD_Indonesian': ['id-ud-train.conllu'], \n",
    "              'UD_Italian': ['it-ud-train.conllu'], \n",
    "              'UD_Spanish': ['es-ud-train.conllu']}\n",
    "\n",
    "# UD_Language: [filepaths]\n",
    "treebanks = {f: [join(treebank_path, f, train_file) for train_file in train_files[f]]\n",
    "             for f in listdir(treebank_path) \n",
    "             if f.startswith(\"UD_\")}  # remove hidden files"
   ]
  },
  {
   "cell_type": "code",
   "execution_count": 2,
   "metadata": {
    "collapsed": false
   },
   "outputs": [],
   "source": [
    "def calculate_ttr(trees):\n",
    "    words = defaultdict(int)\n",
    "    for tree in trees:\n",
    "        for word in tree.words:\n",
    "            words[word] += 1\n",
    "    \n",
    "    return sum(words.values()) / len(words)"
   ]
  },
  {
   "cell_type": "code",
   "execution_count": 3,
   "metadata": {
    "collapsed": false
   },
   "outputs": [],
   "source": [
    "token_type_ratio = {}\n",
    "for language, treebank in treebanks.items():\n",
    "    token_type_ratio[language] = calculate_ttr(udtree.from_files(treebank))\n",
    "\n",
    "ttr = pd.Series(token_type_ratio).sort_values()"
   ]
  },
  {
   "cell_type": "markdown",
   "metadata": {},
   "source": [
    "## TTR results on training set"
   ]
  },
  {
   "cell_type": "code",
   "execution_count": 4,
   "metadata": {
    "collapsed": false
   },
   "outputs": [
    {
     "data": {
      "text/plain": [
       "UD_Hungarian       2.554312\n",
       "UD_Finnish-FTB     3.016516\n",
       "UD_Basque          3.142131\n",
       "UD_Finnish         3.310433\n",
       "UD_Irish           3.490282\n",
       "UD_Bulgarian       4.529049\n",
       "UD_Greek           4.595545\n",
       "UD_Croatian        4.651343\n",
       "UD_Danish          5.029253\n",
       "UD_Indonesian      5.073662\n",
       "UD_Swedish         5.161877\n",
       "UD_German          5.451285\n",
       "UD_Hebrew          8.167822\n",
       "UD_Spanish         8.275111\n",
       "UD_French          8.454864\n",
       "UD_Persian         9.114223\n",
       "UD_Czech           9.360645\n",
       "UD_Italian         9.387541\n",
       "UD_English        10.410442\n",
       "dtype: float64"
      ]
     },
     "execution_count": 4,
     "metadata": {},
     "output_type": "execute_result"
    }
   ],
   "source": [
    "ttr"
   ]
  },
  {
   "cell_type": "code",
   "execution_count": 5,
   "metadata": {
    "collapsed": false
   },
   "outputs": [
    {
     "data": {
      "text/plain": [
       "<matplotlib.axes._subplots.AxesSubplot at 0x105c35a58>"
      ]
     },
     "execution_count": 5,
     "metadata": {},
     "output_type": "execute_result"
    },
    {
     "data": {
      "image/png": "[encoded data removed]",
      "text/plain": [
       "<matplotlib.figure.Figure at 0x105c82748>"
      ]
     },
     "metadata": {},
     "output_type": "display_data"
    }
   ],
   "source": [
    "ttr.plot(kind='bar')"
   ]
  },
  {
   "cell_type": "markdown",
   "metadata": {},
   "source": [
    "The TTR order of the UD treebank languages seem to somewhat follow the intuition, where English as a highly isolated language is ranked highest, while Hungarian Finnish, and Basque are at the bottom. One clear outlier is Czech, which as a highly fusional language should have a much lower ratio. After investigation I realized that since the Czech training data is an order of magnitude larger than all other data, the type/token ratio naturally becomes much lower. This has been verified by others as well [[1]](http://link.springer.com/article/10.1007%2Fs11185-015-9151-8#).\n",
    "\n",
    "# Standardised TTR\n",
    "\n",
    "While [1] suggests a new measurement, zTTR, it seems a bit more difficult to implement so I'll just settle with Standardized TTR (sTTR) for now, which is the average TTR over chunked input of 1000 words."
   ]
  },
  {
   "cell_type": "code",
   "execution_count": 6,
   "metadata": {
    "collapsed": false
   },
   "outputs": [],
   "source": [
    "def calculate_chunked_ttr(trees):\n",
    "    max_chunk_size = 1000\n",
    "    chunks = [defaultdict(int)]\n",
    "    chunk_size = 0\n",
    "    for tree in trees:\n",
    "        for token in tree.tokens:\n",
    "            if chunk_size > max_chunk_size:\n",
    "                chunks.append(defaultdict(int))\n",
    "                chunk_size = 0\n",
    "            chunks[-1][token] += 1\n",
    "            chunk_size += 1\n",
    "    \n",
    "    ttrs = map(lambda tokens: sum(tokens.values()) / len(tokens), chunks)\n",
    "    return ttrs\n",
    "\n",
    "token_type_ratio = {}\n",
    "for language, treebank in treebanks.items():\n",
    "    series = pd.Series(calculate_chunked_ttr(udtree.from_files(treebank)))\n",
    "    token_type_ratio[language] = pd.Series({'mean': series.mean(), 'std_deviation': series.std()})\n"
   ]
  },
  {
   "cell_type": "code",
   "execution_count": 7,
   "metadata": {
    "collapsed": false
   },
   "outputs": [
    {
     "data": {
      "text/html": [
       "<div>\n",
       "<table border=\"1\" class=\"dataframe\">\n",
       "  <thead>\n",
       "    <tr style=\"text-align: right;\">\n",
       "      <th></th>\n",
       "      <th>mean</th>\n",
       "      <th>std_deviation</th>\n",
       "    </tr>\n",
       "  </thead>\n",
       "  <tbody>\n",
       "    <tr>\n",
       "      <th>UD_Finnish-FTB</th>\n",
       "      <td>1.519148</td>\n",
       "      <td>0.102774</td>\n",
       "    </tr>\n",
       "    <tr>\n",
       "      <th>UD_Basque</th>\n",
       "      <td>1.569597</td>\n",
       "      <td>0.036438</td>\n",
       "    </tr>\n",
       "    <tr>\n",
       "      <th>UD_Finnish</th>\n",
       "      <td>1.601419</td>\n",
       "      <td>0.174828</td>\n",
       "    </tr>\n",
       "    <tr>\n",
       "      <th>UD_Czech</th>\n",
       "      <td>1.666643</td>\n",
       "      <td>0.116945</td>\n",
       "    </tr>\n",
       "    <tr>\n",
       "      <th>UD_Indonesian</th>\n",
       "      <td>1.688530</td>\n",
       "      <td>0.046713</td>\n",
       "    </tr>\n",
       "    <tr>\n",
       "      <th>UD_Hebrew</th>\n",
       "      <td>1.701824</td>\n",
       "      <td>0.079374</td>\n",
       "    </tr>\n",
       "    <tr>\n",
       "      <th>UD_German</th>\n",
       "      <td>1.732144</td>\n",
       "      <td>0.078641</td>\n",
       "    </tr>\n",
       "    <tr>\n",
       "      <th>UD_Hungarian</th>\n",
       "      <td>1.736633</td>\n",
       "      <td>0.067214</td>\n",
       "    </tr>\n",
       "    <tr>\n",
       "      <th>UD_Greek</th>\n",
       "      <td>1.807905</td>\n",
       "      <td>0.052342</td>\n",
       "    </tr>\n",
       "    <tr>\n",
       "      <th>UD_Croatian</th>\n",
       "      <td>1.809131</td>\n",
       "      <td>0.082703</td>\n",
       "    </tr>\n",
       "    <tr>\n",
       "      <th>UD_Danish</th>\n",
       "      <td>1.864676</td>\n",
       "      <td>0.058950</td>\n",
       "    </tr>\n",
       "    <tr>\n",
       "      <th>UD_Bulgarian</th>\n",
       "      <td>1.873273</td>\n",
       "      <td>0.208794</td>\n",
       "    </tr>\n",
       "    <tr>\n",
       "      <th>UD_French</th>\n",
       "      <td>1.888162</td>\n",
       "      <td>0.043260</td>\n",
       "    </tr>\n",
       "    <tr>\n",
       "      <th>UD_Spanish</th>\n",
       "      <td>1.893960</td>\n",
       "      <td>0.044790</td>\n",
       "    </tr>\n",
       "    <tr>\n",
       "      <th>UD_Irish</th>\n",
       "      <td>1.921727</td>\n",
       "      <td>0.096752</td>\n",
       "    </tr>\n",
       "    <tr>\n",
       "      <th>UD_Swedish</th>\n",
       "      <td>2.095508</td>\n",
       "      <td>0.143852</td>\n",
       "    </tr>\n",
       "    <tr>\n",
       "      <th>UD_Italian</th>\n",
       "      <td>2.149726</td>\n",
       "      <td>0.255739</td>\n",
       "    </tr>\n",
       "    <tr>\n",
       "      <th>UD_Persian</th>\n",
       "      <td>2.285532</td>\n",
       "      <td>0.259574</td>\n",
       "    </tr>\n",
       "    <tr>\n",
       "      <th>UD_English</th>\n",
       "      <td>2.295223</td>\n",
       "      <td>0.213918</td>\n",
       "    </tr>\n",
       "  </tbody>\n",
       "</table>\n",
       "</div>"
      ],
      "text/plain": [
       "                    mean  std_deviation\n",
       "UD_Finnish-FTB  1.519148       0.102774\n",
       "UD_Basque       1.569597       0.036438\n",
       "UD_Finnish      1.601419       0.174828\n",
       "UD_Czech        1.666643       0.116945\n",
       "UD_Indonesian   1.688530       0.046713\n",
       "UD_Hebrew       1.701824       0.079374\n",
       "UD_German       1.732144       0.078641\n",
       "UD_Hungarian    1.736633       0.067214\n",
       "UD_Greek        1.807905       0.052342\n",
       "UD_Croatian     1.809131       0.082703\n",
       "UD_Danish       1.864676       0.058950\n",
       "UD_Bulgarian    1.873273       0.208794\n",
       "UD_French       1.888162       0.043260\n",
       "UD_Spanish      1.893960       0.044790\n",
       "UD_Irish        1.921727       0.096752\n",
       "UD_Swedish      2.095508       0.143852\n",
       "UD_Italian      2.149726       0.255739\n",
       "UD_Persian      2.285532       0.259574\n",
       "UD_English      2.295223       0.213918"
      ]
     },
     "execution_count": 7,
     "metadata": {},
     "output_type": "execute_result"
    }
   ],
   "source": [
    "ttr = pd.concat(token_type_ratio, axis=1).transpose().sort_values('mean')\n",
    "ttr.to_csv('../data/standard_ttr.1.1.csv')\n",
    "ttr"
   ]
  },
  {
   "cell_type": "code",
   "execution_count": 8,
   "metadata": {
    "collapsed": false
   },
   "outputs": [
    {
     "data": {
      "text/plain": [
       "<matplotlib.axes._subplots.AxesSubplot at 0x107e47748>"
      ]
     },
     "execution_count": 8,
     "metadata": {},
     "output_type": "execute_result"
    },
    {
     "data": {
      "image/png": "[encoded data removed]",
      "text/plain": [
       "<matplotlib.figure.Figure at 0x10698dba8>"
      ]
     },
     "metadata": {},
     "output_type": "display_data"
    }
   ],
   "source": [
    "ttr['mean'].plot(kind='bar', yerr=ttr['std_deviation'])"
   ]
  },
  {
   "cell_type": "markdown",
   "metadata": {},
   "source": [
    "This looks much better. The standard deviation is somewhat higher for Finnish, Bulgarian, Italian, Persian, and English. It doesn't seem to correlate with the their domains according to UD docs. In any case, the std deviations aren't high enough to alter the results significantly.\n",
    "\n",
    "# Conclusion\n",
    "\n",
    "sTTR is a better measurement, due to the training data being of such different sizes. The results of sTTR are much more intuitive given the typological differences we are interested of (at least of the languages that I have some knowledge of). Given the results, I'm confident we can use the sTTR measurement as a reference when looking at the distribution of function dependencies across languages."
   ]
  }
 ],
 "metadata": {
  "kernelspec": {
   "display_name": "Python 3",
   "language": "python",
   "name": "python3"
  },
  "language_info": {
   "codemirror_mode": {
    "name": "ipython",
    "version": 3
   },
   "file_extension": ".py",
   "mimetype": "text/x-python",
   "name": "python",
   "nbconvert_exporter": "python",
   "pygments_lexer": "ipython3",
   "version": "3.4.3"
  }
 },
 "nbformat": 4,
 "nbformat_minor": 0
}
