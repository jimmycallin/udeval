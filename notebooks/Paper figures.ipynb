{
 "cells": [
  {
   "cell_type": "markdown",
   "metadata": {},
   "source": [
    "# Paper figures\n",
    "\n",
    "Here are all figures generated for the paper."
   ]
  },
  {
   "cell_type": "code",
   "execution_count": 4,
   "metadata": {
    "collapsed": true
   },
   "outputs": [],
   "source": [
    "%matplotlib inline\n",
    "import matplotlib as mpl\n",
    "from matplotlib import pylab\n",
    "import matplotlib.pyplot as plt\n",
    "pylab.rcParams['figure.figsize'] = (10.0, 7.0)\n",
    "mpl.style.use('ggplot')\n",
    "from matplotlib.backends.backend_pgf import FigureCanvasPgf\n",
    "mpl.backend_bases.register_backend('pgf', FigureCanvasPgf)\n",
    "\n",
    "# Remove warnings\n",
    "import warnings\n",
    "warnings.filterwarnings('ignore')\n",
    "\n",
    "import sys, os\n",
    "from os.path import join\n",
    "sys.path.append(\"../tools/\")\n",
    "from collections import defaultdict\n",
    "\n",
    "# Data management libraries\n",
    "import pandas as pd\n",
    "import scipy as sp\n",
    "import scipy.stats\n",
    "\n",
    "# Treebank utils, found in \"../tools\"\n",
    "import udeval, udtree, lang_utils, dependency_classes"
   ]
  },
  {
   "cell_type": "markdown",
   "metadata": {},
   "source": [
    "## STTR"
   ]
  },
  {
   "cell_type": "code",
   "execution_count": 11,
   "metadata": {
    "collapsed": false
   },
   "outputs": [
    {
     "data": {
      "image/png": "[encoded data removed]",
      "text/plain": [
       "<matplotlib.figure.Figure at 0x108bae828>"
      ]
     },
     "metadata": {},
     "output_type": "display_data"
    }
   ],
   "source": [
    "content_dist = pd.DataFrame.from_csv('../data/content_function_freq.csv')['Content freq']\n",
    "sttr = pd.DataFrame.from_csv('../data/standard_ttr.1.2.csv')\n",
    "content_sttr = pd.concat([sttr['mean'], content_dist], axis=1)\n",
    "renamed = content_sttr.rename(index={'Old_Church_Slavonic': 'O.C. Slavonic'}, \n",
    "                              columns={'mean': 'STTR', 0: \"Content deprel ratio\"})\n",
    "renamed.sort_values('STTR').plot(kind='barh', figsize=(3.5, 3), fontsize=6)\n",
    "plt.legend(fontsize=3, loc=4)\n",
    "plt.tight_layout()\n",
    "plt.savefig('../paper/figures/standard_ttr.pdf')"
   ]
  },
  {
   "cell_type": "markdown",
   "metadata": {},
   "source": [
    "## Average word dependency entropy"
   ]
  },
  {
   "cell_type": "code",
   "execution_count": 12,
   "metadata": {
    "collapsed": false
   },
   "outputs": [
    {
     "data": {
      "image/png": "[encoded data removed]",
      "text/plain": [
       "<matplotlib.figure.Figure at 0x108b91c88>"
      ]
     },
     "metadata": {},
     "output_type": "display_data"
    }
   ],
   "source": [
    "wde = pd.Series.from_csv('../data/function_content_degree.wde.csv')\n",
    "\n",
    "from matplotlib.patches import Patch\n",
    "colmap = {deprel: 'red' for deprel in dependency_classes.function_dependents}\n",
    "colmap.update({deprel: 'blue' for deprel in dependency_classes.content_dependents})\n",
    "colmap.update({deprel: (0.7, 0.7, 0.7) for deprel in dependency_classes.nonsemantic_dependents})\n",
    "colors = list(map(lambda deprel: colmap[deprel], wde.sort_values(ascending=True).index))\n",
    "fhandle = Patch(color='red', label='Function')\n",
    "chandle = Patch(color='blue', label='Content')\n",
    "ohandle = Patch(color=(0.7, 0.7, 0.7), label='Other')\n",
    "\n",
    "ax = wde.sort_values(ascending=True).plot(kind='barh', fontsize=5, figsize=(3, 4), color=colors)\n",
    "plt.legend(handles=[chandle, fhandle, ohandle], loc=4, fontsize=5)\n",
    "plt.tight_layout()\n",
    "plt.savefig('../paper/figures/word_dependency_entropy.pdf')"
   ]
  },
  {
   "cell_type": "markdown",
   "metadata": {},
   "source": [
    "\n",
    "## Pearson correlation matrix\n",
    "\n",
    "Manually boldfaced"
   ]
  },
  {
   "cell_type": "code",
   "execution_count": 77,
   "metadata": {
    "collapsed": false
   },
   "outputs": [
    {
     "data": {
      "text/html": [
       "<div>\n",
       "<table border=\"1\" class=\"dataframe\">\n",
       "  <thead>\n",
       "    <tr style=\"text-align: right;\">\n",
       "      <th></th>\n",
       "      <th>LAS</th>\n",
       "      <th>C prec</th>\n",
       "      <th>C rec</th>\n",
       "      <th>F prec</th>\n",
       "      <th>F rec</th>\n",
       "      <th>C freq</th>\n",
       "      <th>F freq</th>\n",
       "    </tr>\n",
       "  </thead>\n",
       "  <tbody>\n",
       "    <tr>\n",
       "      <th>WLAS</th>\n",
       "      <td>0.986439</td>\n",
       "      <td>0.958025</td>\n",
       "      <td>0.977523</td>\n",
       "      <td>0.808511</td>\n",
       "      <td>0.850822</td>\n",
       "      <td>-0.496427</td>\n",
       "      <td>0.418081</td>\n",
       "    </tr>\n",
       "    <tr>\n",
       "      <th>LAS</th>\n",
       "      <td></td>\n",
       "      <td>0.956086</td>\n",
       "      <td>0.961225</td>\n",
       "      <td>0.833562</td>\n",
       "      <td>0.889671</td>\n",
       "      <td>-0.480632</td>\n",
       "      <td>0.431883</td>\n",
       "    </tr>\n",
       "    <tr>\n",
       "      <th>C prec</th>\n",
       "      <td></td>\n",
       "      <td></td>\n",
       "      <td>0.985554</td>\n",
       "      <td>0.662361</td>\n",
       "      <td>0.748413</td>\n",
       "      <td>-0.254856</td>\n",
       "      <td>0.185591</td>\n",
       "    </tr>\n",
       "    <tr>\n",
       "      <th>C rec</th>\n",
       "      <td></td>\n",
       "      <td></td>\n",
       "      <td></td>\n",
       "      <td>0.709218</td>\n",
       "      <td>0.758649</td>\n",
       "      <td>-0.331597</td>\n",
       "      <td>0.233178</td>\n",
       "    </tr>\n",
       "    <tr>\n",
       "      <th>F prec</th>\n",
       "      <td></td>\n",
       "      <td></td>\n",
       "      <td></td>\n",
       "      <td></td>\n",
       "      <td>0.966026</td>\n",
       "      <td>-0.727561</td>\n",
       "      <td>0.666145</td>\n",
       "    </tr>\n",
       "    <tr>\n",
       "      <th>F rec</th>\n",
       "      <td></td>\n",
       "      <td></td>\n",
       "      <td></td>\n",
       "      <td></td>\n",
       "      <td></td>\n",
       "      <td>-0.66533</td>\n",
       "      <td>0.623118</td>\n",
       "    </tr>\n",
       "    <tr>\n",
       "      <th>C freq</th>\n",
       "      <td></td>\n",
       "      <td></td>\n",
       "      <td></td>\n",
       "      <td></td>\n",
       "      <td></td>\n",
       "      <td></td>\n",
       "      <td>-0.858977</td>\n",
       "    </tr>\n",
       "  </tbody>\n",
       "</table>\n",
       "</div>"
      ],
      "text/plain": [
       "             LAS    C prec     C rec    F prec     F rec    C freq    F freq\n",
       "WLAS    0.986439  0.958025  0.977523  0.808511  0.850822 -0.496427  0.418081\n",
       "LAS               0.956086  0.961225  0.833562  0.889671 -0.480632  0.431883\n",
       "C prec                      0.985554  0.662361  0.748413 -0.254856  0.185591\n",
       "C rec                                 0.709218  0.758649 -0.331597  0.233178\n",
       "F prec                                          0.966026 -0.727561  0.666145\n",
       "F rec                                                     -0.66533  0.623118\n",
       "C freq                                                             -0.858977"
      ]
     },
     "execution_count": 77,
     "metadata": {},
     "output_type": "execute_result"
    }
   ],
   "source": [
    "sttr = pd.DataFrame.from_csv('../data/standard_ttr.1.2.csv').rename(columns={'mean': 'STTR'})['STTR']\n",
    "lang_dist = pd.DataFrame.from_csv('../data/content_function_freq.csv').rename(columns={'Function freq': 'F freq', \n",
    "                                                                                       'Content freq': 'C freq'})\n",
    "lang_measures = pd.DataFrame.from_csv('../data/maltdefault.lang_measures.csv').rename(columns={'Averaged WLAS': 'Avg WLAS'})\n",
    "lang_measures = pd.concat([lang_measures, lang_dist], axis=1)\n",
    "corrs = lang_measures.corr('pearson')\n",
    "corrs = pd.DataFrame(np.triu(corrs, k=1), index=corrs.index, columns=corrs.columns).replace(0, \"\")\n",
    "corrs = corrs.drop('WLAS', axis=1).drop('F freq', axis=0)\n",
    "with open('../paper/tables/res_corrs.latex', 'w') as w:\n",
    "    corrs.to_latex(buf=w, column_format=\"lrrrrrrrrr\", float_format=lambda x: \"{:.2f}\".format(x))\n",
    "corrs"
   ]
  },
  {
   "cell_type": "markdown",
   "metadata": {},
   "source": [
    "## Maltdefault results"
   ]
  },
  {
   "cell_type": "code",
   "execution_count": 76,
   "metadata": {
    "collapsed": false
   },
   "outputs": [
    {
     "data": {
      "image/png": "[encoded data removed]",
      "text/plain": [
       "<matplotlib.figure.Figure at 0x109124cf8>"
      ]
     },
     "metadata": {},
     "output_type": "display_data"
    }
   ],
   "source": [
    "lang_measures = pd.DataFrame.from_csv('../data/maltdefault.lang_measures.csv')[['LAS', 'WLAS', 'C prec', 'C rec']]\n",
    "lang_measures.rename(columns={0: 'LAS', 1: 'WLAS'}, inplace=True)\n",
    "lang_measures.sort_values('LAS', inplace=True)\n",
    "renamed = lang_measures.rename(index={'Old_Church_Slavonic': 'O.C. Slavonic'})\n",
    "ax = renamed.plot(kind='bar', figsize=(6,3), fontsize=7, legend=False)\n",
    "ax.legend(loc=2, fontsize=5)\n",
    "plt.ylim(0.5, 0.9)\n",
    "plt.tight_layout()\n",
    "plt.savefig('../paper/figures/content_las_comparison.pdf')"
   ]
  },
  {
   "cell_type": "markdown",
   "metadata": {},
   "source": [
    "## Cumulative variance"
   ]
  },
  {
   "cell_type": "code",
   "execution_count": 74,
   "metadata": {
    "collapsed": false
   },
   "outputs": [
    {
     "data": {
      "image/png": "[encoded data removed]",
      "text/plain": [
       "<matplotlib.figure.Figure at 0x108f6e080>"
      ]
     },
     "metadata": {},
     "output_type": "display_data"
    }
   ],
   "source": [
    "lang_measures = pd.DataFrame.from_csv('../data/maltdefault.lang_measures.csv')\n",
    "vals = [\"C prec\", \"C rec\", \"WLAS\", \"LAS\"]\n",
    "vars = {\"C prec\": [], \"C rec\": [], \"LAS\": [], \"WLAS\": []}\n",
    "for val in vals:\n",
    "    for i in range(2, len(lang_measures)+1):\n",
    "        vars[val].append(lang_measures.sort_values(val, ascending=False)[val].ix[:i].var())\n",
    "\n",
    "vars = pd.DataFrame(vars)\n",
    "vars.index = range(2,len(lang_measures)+1)\n",
    "vars.plot(figsize=(3,3), legend=False, fontsize=7)\n",
    "plt.legend(fontsize=5, loc=2)\n",
    "plt.savefig('../paper/figures/cumul_vars.pdf')"
   ]
  },
  {
   "cell_type": "markdown",
   "metadata": {},
   "source": [
    "## Human judgment scores"
   ]
  },
  {
   "cell_type": "code",
   "execution_count": 22,
   "metadata": {
    "collapsed": false
   },
   "outputs": [
    {
     "data": {
      "text/html": [
       "<div>\n",
       "<table border=\"1\" class=\"dataframe\">\n",
       "  <thead>\n",
       "    <tr style=\"text-align: right;\">\n",
       "      <th></th>\n",
       "      <th>Content precision</th>\n",
       "      <th>Content recall</th>\n",
       "      <th>LAS</th>\n",
       "      <th>WLAS</th>\n",
       "    </tr>\n",
       "  </thead>\n",
       "  <tbody>\n",
       "    <tr>\n",
       "      <th>English</th>\n",
       "      <td>0.508442</td>\n",
       "      <td>0.581423</td>\n",
       "      <td>0.545157</td>\n",
       "      <td>0.546863</td>\n",
       "    </tr>\n",
       "    <tr>\n",
       "      <th>German</th>\n",
       "      <td>0.371537</td>\n",
       "      <td>0.437564</td>\n",
       "      <td>0.463736</td>\n",
       "      <td>0.463736</td>\n",
       "    </tr>\n",
       "    <tr>\n",
       "      <th>Spanish</th>\n",
       "      <td>0.448713</td>\n",
       "      <td>0.463425</td>\n",
       "      <td>0.490216</td>\n",
       "      <td>0.478960</td>\n",
       "    </tr>\n",
       "  </tbody>\n",
       "</table>\n",
       "</div>"
      ],
      "text/plain": [
       "         Content precision  Content recall       LAS      WLAS\n",
       "English           0.508442        0.581423  0.545157  0.546863\n",
       "German            0.371537        0.437564  0.463736  0.463736\n",
       "Spanish           0.448713        0.463425  0.490216  0.478960"
      ]
     },
     "execution_count": 22,
     "metadata": {},
     "output_type": "execute_result"
    }
   ],
   "source": [
    "hujudg = pd.DataFrame.from_csv('../data/human_judgment_corr.csv')\n",
    "# manual changes to file, so just making sure i don't run this by mistake\n",
    "#with open('../paper/tables/human_judgment.latex', 'w') as w:\n",
    "#    hujudg.to_latex(buf=w, column_format=\"lrrrr\", float_format=lambda x: \"{:.2f}\".format(x))\n",
    "hujudg"
   ]
  }
 ],
 "metadata": {
  "kernelspec": {
   "display_name": "Python 3",
   "language": "python",
   "name": "python3"
  },
  "language_info": {
   "codemirror_mode": {
    "name": "ipython",
    "version": 3
   },
   "file_extension": ".py",
   "mimetype": "text/x-python",
   "name": "python",
   "nbconvert_exporter": "python",
   "pygments_lexer": "ipython3",
   "version": "3.4.3"
  }
 },
 "nbformat": 4,
 "nbformat_minor": 0
}
