{
 "cells": [
  {
   "cell_type": "markdown",
   "metadata": {},
   "source": [
    "# Paper figures\n",
    "\n",
    "Here are all figures generated for the paper."
   ]
  },
  {
   "cell_type": "code",
   "execution_count": 18,
   "metadata": {
    "collapsed": true
   },
   "outputs": [],
   "source": [
    "%matplotlib inline\n",
    "import matplotlib as mpl\n",
    "from matplotlib import pylab\n",
    "import matplotlib.pyplot as plt\n",
    "pylab.rcParams['figure.figsize'] = (10.0, 7.0)\n",
    "mpl.style.use('ggplot')\n",
    "from matplotlib.backends.backend_pgf import FigureCanvasPgf\n",
    "mpl.backend_bases.register_backend('pgf', FigureCanvasPgf)\n",
    "\n",
    "# Remove warnings\n",
    "import warnings\n",
    "warnings.filterwarnings('ignore')\n",
    "\n",
    "import sys, os\n",
    "from os.path import join\n",
    "sys.path.append(\"../tools/\")\n",
    "from collections import defaultdict\n",
    "\n",
    "# Data management libraries\n",
    "import pandas as pd\n",
    "import scipy as sp\n",
    "import scipy.stats\n",
    "\n",
    "# Treebank utils, found in \"../tools\"\n",
    "import udeval, udtree, lang_utils, dependency_classes"
   ]
  },
  {
   "cell_type": "markdown",
   "metadata": {},
   "source": [
    "## STTR"
   ]
  },
  {
   "cell_type": "code",
   "execution_count": 27,
   "metadata": {
    "collapsed": false
   },
   "outputs": [
    {
     "data": {
      "text/html": [
       "<div>\n",
       "<table border=\"1\" class=\"dataframe\">\n",
       "  <thead>\n",
       "    <tr style=\"text-align: right;\">\n",
       "      <th></th>\n",
       "      <th>STTR</th>\n",
       "      <th>C freq</th>\n",
       "      <th>F freq</th>\n",
       "    </tr>\n",
       "  </thead>\n",
       "  <tbody>\n",
       "    <tr>\n",
       "      <th>STTR</th>\n",
       "      <td>1.000000</td>\n",
       "      <td>0.226608</td>\n",
       "      <td>-0.518758</td>\n",
       "    </tr>\n",
       "    <tr>\n",
       "      <th>C freq</th>\n",
       "      <td>0.226608</td>\n",
       "      <td>1.000000</td>\n",
       "      <td>-0.859462</td>\n",
       "    </tr>\n",
       "    <tr>\n",
       "      <th>F freq</th>\n",
       "      <td>-0.518758</td>\n",
       "      <td>-0.859462</td>\n",
       "      <td>1.000000</td>\n",
       "    </tr>\n",
       "  </tbody>\n",
       "</table>\n",
       "</div>"
      ],
      "text/plain": [
       "            STTR    C freq    F freq\n",
       "STTR    1.000000  0.226608 -0.518758\n",
       "C freq  0.226608  1.000000 -0.859462\n",
       "F freq -0.518758 -0.859462  1.000000"
      ]
     },
     "execution_count": 27,
     "metadata": {},
     "output_type": "execute_result"
    },
    {
     "data": {
      "image/png": "[encoded data removed]",
      "text/plain": [
       "<matplotlib.figure.Figure at 0x108251a20>"
      ]
     },
     "metadata": {},
     "output_type": "display_data"
    }
   ],
   "source": [
    "content_dist = pd.DataFrame.from_csv('../data/content_function_freq.csv')[[\"C freq\", \"F freq\"]]\n",
    "sttr = pd.DataFrame.from_csv('../data/standard_ttr.1.2.csv')\n",
    "content_sttr = pd.concat([sttr['mean'], content_dist], axis=1)\n",
    "renamed = content_sttr.rename(index={'Old_Church_Slavonic': 'O.C. Slavonic'}, \n",
    "                              columns={'mean': 'STTR', 0: \"Content deprel ratio\"})\n",
    "renamed.sort_values('STTR').plot(kind='barh', figsize=(3.5, 3), fontsize=6)\n",
    "plt.legend(fontsize=3, loc=4)\n",
    "plt.tight_layout()\n",
    "plt.savefig('../paper/figures/standard_ttr.pdf')\n",
    "renamed.corr()"
   ]
  },
  {
   "cell_type": "markdown",
   "metadata": {},
   "source": [
    "## Average word dependency entropy"
   ]
  },
  {
   "cell_type": "code",
   "execution_count": 29,
   "metadata": {
    "collapsed": false
   },
   "outputs": [
    {
     "data": {
      "image/png": "[encoded data removed]",
      "text/plain": [
       "<matplotlib.figure.Figure at 0x108b2aac8>"
      ]
     },
     "metadata": {},
     "output_type": "display_data"
    }
   ],
   "source": [
    "wde = pd.Series.from_csv('../data/function_content_degree.wde.csv')\n",
    "\n",
    "from matplotlib.patches import Patch\n",
    "colmap = {deprel: 'red' for deprel in dependency_classes.function_dependents}\n",
    "colmap.update({deprel: 'blue' for deprel in dependency_classes.content_dependents})\n",
    "colmap.update({deprel: (0.7, 0.7, 0.7) for deprel in dependency_classes.nonsemantic_dependents})\n",
    "colors = list(map(lambda deprel: colmap[deprel], wde.sort_values(ascending=True).index))\n",
    "fhandle = Patch(color='red', label='Function')\n",
    "chandle = Patch(color='blue', label='Content')\n",
    "ohandle = Patch(color=(0.7, 0.7, 0.7), label='Other')\n",
    "\n",
    "ax = wde.sort_values(ascending=True).plot(kind='barh', fontsize=5, figsize=(3, 4), color=colors)\n",
    "plt.legend(handles=[chandle, fhandle, ohandle], loc=4, fontsize=5)\n",
    "plt.tight_layout()\n",
    "plt.savefig('../paper/figures/word_dependency_entropy.pdf')"
   ]
  },
  {
   "cell_type": "markdown",
   "metadata": {},
   "source": [
    "\n",
    "## Pearson correlation matrix\n",
    "\n",
    "Manually boldfaced"
   ]
  },
  {
   "cell_type": "code",
   "execution_count": 36,
   "metadata": {
    "collapsed": false
   },
   "outputs": [
    {
     "data": {
      "text/html": [
       "<div>\n",
       "<table border=\"1\" class=\"dataframe\">\n",
       "  <thead>\n",
       "    <tr style=\"text-align: right;\">\n",
       "      <th></th>\n",
       "      <th>LAS</th>\n",
       "      <th>C prec</th>\n",
       "      <th>C rec</th>\n",
       "      <th>F prec</th>\n",
       "      <th>F rec</th>\n",
       "      <th>C freq</th>\n",
       "      <th>F freq</th>\n",
       "    </tr>\n",
       "  </thead>\n",
       "  <tbody>\n",
       "    <tr>\n",
       "      <th>WLAS</th>\n",
       "      <td>0.984976</td>\n",
       "      <td>0.953885</td>\n",
       "      <td>0.969774</td>\n",
       "      <td>0.848273</td>\n",
       "      <td>0.845429</td>\n",
       "      <td>-0.579663</td>\n",
       "      <td>0.419373</td>\n",
       "    </tr>\n",
       "    <tr>\n",
       "      <th>LAS</th>\n",
       "      <td></td>\n",
       "      <td>0.905814</td>\n",
       "      <td>0.922016</td>\n",
       "      <td>0.915696</td>\n",
       "      <td>0.917105</td>\n",
       "      <td>-0.667019</td>\n",
       "      <td>0.540836</td>\n",
       "    </tr>\n",
       "    <tr>\n",
       "      <th>C prec</th>\n",
       "      <td></td>\n",
       "      <td></td>\n",
       "      <td>0.990815</td>\n",
       "      <td>0.683544</td>\n",
       "      <td>0.698359</td>\n",
       "      <td>-0.336173</td>\n",
       "      <td>0.173818</td>\n",
       "    </tr>\n",
       "    <tr>\n",
       "      <th>C rec</th>\n",
       "      <td></td>\n",
       "      <td></td>\n",
       "      <td></td>\n",
       "      <td>0.721002</td>\n",
       "      <td>0.717542</td>\n",
       "      <td>-0.38653</td>\n",
       "      <td>0.201736</td>\n",
       "    </tr>\n",
       "    <tr>\n",
       "      <th>F prec</th>\n",
       "      <td></td>\n",
       "      <td></td>\n",
       "      <td></td>\n",
       "      <td></td>\n",
       "      <td>0.982458</td>\n",
       "      <td>-0.773128</td>\n",
       "      <td>0.714104</td>\n",
       "    </tr>\n",
       "    <tr>\n",
       "      <th>F rec</th>\n",
       "      <td></td>\n",
       "      <td></td>\n",
       "      <td></td>\n",
       "      <td></td>\n",
       "      <td></td>\n",
       "      <td>-0.767874</td>\n",
       "      <td>0.7116</td>\n",
       "    </tr>\n",
       "    <tr>\n",
       "      <th>C freq</th>\n",
       "      <td></td>\n",
       "      <td></td>\n",
       "      <td></td>\n",
       "      <td></td>\n",
       "      <td></td>\n",
       "      <td></td>\n",
       "      <td>-0.859462</td>\n",
       "    </tr>\n",
       "  </tbody>\n",
       "</table>\n",
       "</div>"
      ],
      "text/plain": [
       "             LAS    C prec     C rec    F prec     F rec    C freq    F freq\n",
       "WLAS    0.984976  0.953885  0.969774  0.848273  0.845429 -0.579663  0.419373\n",
       "LAS               0.905814  0.922016  0.915696  0.917105 -0.667019  0.540836\n",
       "C prec                      0.990815  0.683544  0.698359 -0.336173  0.173818\n",
       "C rec                                 0.721002  0.717542  -0.38653  0.201736\n",
       "F prec                                          0.982458 -0.773128  0.714104\n",
       "F rec                                                    -0.767874    0.7116\n",
       "C freq                                                             -0.859462"
      ]
     },
     "execution_count": 36,
     "metadata": {},
     "output_type": "execute_result"
    }
   ],
   "source": [
    "lang_dist = pd.DataFrame.from_csv('../data/content_function_freq.csv').rename(columns={'Function freq': 'F freq', \n",
    "                                                                                       'Content freq': 'C freq'})\n",
    "lang_measures = pd.DataFrame.from_csv('../data/maltdefault.lang_measures.csv').rename(columns={'Averaged WLAS': 'Avg WLAS'})\n",
    "lang_measures = pd.concat([lang_measures, lang_dist], axis=1)\n",
    "corrs = lang_measures.corr('pearson')\n",
    "corrs = pd.DataFrame(np.triu(corrs, k=1), index=corrs.index, columns=corrs.columns).replace(0, \"\")\n",
    "corrs = corrs.drop('WLAS', axis=1).drop('F freq', axis=0)\n",
    "with open('../paper/tables/res_corrs.latex', 'w') as w:\n",
    "    corrs.to_latex(buf=w, column_format=\"lrrrrrrrrr\", float_format=lambda x: \"{:.2f}\".format(x))\n",
    "corrs"
   ]
  },
  {
   "cell_type": "markdown",
   "metadata": {},
   "source": [
    "## Maltdefault results"
   ]
  },
  {
   "cell_type": "code",
   "execution_count": 37,
   "metadata": {
    "collapsed": false
   },
   "outputs": [
    {
     "data": {
      "image/png": "[encoded data removed]",
      "text/plain": [
       "<matplotlib.figure.Figure at 0x1081d7898>"
      ]
     },
     "metadata": {},
     "output_type": "display_data"
    }
   ],
   "source": [
    "lang_measures = pd.DataFrame.from_csv('../data/maltdefault.lang_measures.csv')[['LAS', 'WLAS', 'C prec', 'C rec']]\n",
    "lang_measures.rename(columns={0: 'LAS', 1: 'WLAS'}, inplace=True)\n",
    "lang_measures.sort_values('LAS', inplace=True)\n",
    "renamed = lang_measures.rename(index={'Old_Church_Slavonic': 'O.C. Slavonic'})\n",
    "ax = renamed.plot(kind='bar', figsize=(6,3), fontsize=7, legend=False)\n",
    "ax.legend(loc=2, fontsize=5)\n",
    "plt.ylim(0.5, 0.9)\n",
    "plt.tight_layout()\n",
    "plt.savefig('../paper/figures/content_las_comparison.pdf')"
   ]
  },
  {
   "cell_type": "markdown",
   "metadata": {},
   "source": [
    "## Cumulative variance"
   ]
  },
  {
   "cell_type": "code",
   "execution_count": 42,
   "metadata": {
    "collapsed": false
   },
   "outputs": [
    {
     "data": {
      "text/plain": [
       "2     0.000075\n",
       "3     0.000062\n",
       "4     0.000090\n",
       "5     0.000090\n",
       "6     0.000148\n",
       "7     0.000176\n",
       "8     0.000195\n",
       "9     0.000257\n",
       "10    0.000302\n",
       "11    0.000352\n",
       "12    0.000544\n",
       "13    0.000674\n",
       "14    0.000858\n",
       "15    0.000996\n",
       "16    0.001212\n",
       "17    0.001460\n",
       "18    0.001929\n",
       "19    0.002768\n",
       "20    0.003472\n",
       "Name: WLAS, dtype: float64"
      ]
     },
     "execution_count": 42,
     "metadata": {},
     "output_type": "execute_result"
    },
    {
     "data": {
      "image/png": "[encoded data removed]",
      "text/plain": [
       "<matplotlib.figure.Figure at 0x108de3d68>"
      ]
     },
     "metadata": {},
     "output_type": "display_data"
    }
   ],
   "source": [
    "lang_measures = pd.DataFrame.from_csv('../data/maltdefault.lang_measures.csv')\n",
    "vals = [\"C prec\", \"C rec\", \"WLAS\", \"LAS\"]\n",
    "vars = {\"C prec\": [], \"C rec\": [], \"LAS\": [], \"WLAS\": []}\n",
    "for val in vals:\n",
    "    for i in range(2, len(lang_measures)+1):\n",
    "        vars[val].append(lang_measures.sort_values(val, ascending=False)[val].ix[:i].var())\n",
    "\n",
    "vars = pd.DataFrame(vars)\n",
    "vars.index = range(2,len(lang_measures)+1)\n",
    "vars.plot(figsize=(3,3), legend=False, fontsize=7)\n",
    "plt.legend(fontsize=5, loc=2)\n",
    "plt.savefig('../paper/figures/cumul_vars.pdf')\n",
    "vars['WLAS']"
   ]
  },
  {
   "cell_type": "markdown",
   "metadata": {},
   "source": [
    "## Human judgment scores"
   ]
  },
  {
   "cell_type": "code",
   "execution_count": 22,
   "metadata": {
    "collapsed": false
   },
   "outputs": [
    {
     "data": {
      "text/html": [
       "<div>\n",
       "<table border=\"1\" class=\"dataframe\">\n",
       "  <thead>\n",
       "    <tr style=\"text-align: right;\">\n",
       "      <th></th>\n",
       "      <th>Content precision</th>\n",
       "      <th>Content recall</th>\n",
       "      <th>LAS</th>\n",
       "      <th>WLAS</th>\n",
       "    </tr>\n",
       "  </thead>\n",
       "  <tbody>\n",
       "    <tr>\n",
       "      <th>English</th>\n",
       "      <td>0.508442</td>\n",
       "      <td>0.581423</td>\n",
       "      <td>0.545157</td>\n",
       "      <td>0.546863</td>\n",
       "    </tr>\n",
       "    <tr>\n",
       "      <th>German</th>\n",
       "      <td>0.371537</td>\n",
       "      <td>0.437564</td>\n",
       "      <td>0.463736</td>\n",
       "      <td>0.463736</td>\n",
       "    </tr>\n",
       "    <tr>\n",
       "      <th>Spanish</th>\n",
       "      <td>0.448713</td>\n",
       "      <td>0.463425</td>\n",
       "      <td>0.490216</td>\n",
       "      <td>0.478960</td>\n",
       "    </tr>\n",
       "  </tbody>\n",
       "</table>\n",
       "</div>"
      ],
      "text/plain": [
       "         Content precision  Content recall       LAS      WLAS\n",
       "English           0.508442        0.581423  0.545157  0.546863\n",
       "German            0.371537        0.437564  0.463736  0.463736\n",
       "Spanish           0.448713        0.463425  0.490216  0.478960"
      ]
     },
     "execution_count": 22,
     "metadata": {},
     "output_type": "execute_result"
    }
   ],
   "source": [
    "hujudg = pd.DataFrame.from_csv('../data/human_judgment_corr.csv')\n",
    "# manual changes to file, so just making sure i don't run this by mistake\n",
    "#with open('../paper/tables/human_judgment.latex', 'w') as w:\n",
    "#    hujudg.to_latex(buf=w, column_format=\"lrrrr\", float_format=lambda x: \"{:.2f}\".format(x))\n",
    "hujudg"
   ]
  },
  {
   "cell_type": "markdown",
   "metadata": {},
   "source": [
    "## Cascading errors"
   ]
  },
  {
   "cell_type": "code",
   "execution_count": 39,
   "metadata": {
    "collapsed": false
   },
   "outputs": [
    {
     "data": {
      "text/html": [
       "<div>\n",
       "<table border=\"1\" class=\"dataframe\">\n",
       "  <thead>\n",
       "    <tr style=\"text-align: right;\">\n",
       "      <th></th>\n",
       "      <th>C lab.</th>\n",
       "      <th>C unlab.</th>\n",
       "      <th>F lab.</th>\n",
       "      <th>F unlab.</th>\n",
       "    </tr>\n",
       "  </thead>\n",
       "  <tbody>\n",
       "    <tr>\n",
       "      <th>Arabic</th>\n",
       "      <td>0.513789</td>\n",
       "      <td>0.563860</td>\n",
       "      <td>0.398017</td>\n",
       "      <td>0.489478</td>\n",
       "    </tr>\n",
       "    <tr>\n",
       "      <th>Bulgarian</th>\n",
       "      <td>0.552858</td>\n",
       "      <td>0.548533</td>\n",
       "      <td>0.506596</td>\n",
       "      <td>0.559701</td>\n",
       "    </tr>\n",
       "    <tr>\n",
       "      <th>Croatian</th>\n",
       "      <td>0.474149</td>\n",
       "      <td>0.459615</td>\n",
       "      <td>0.318436</td>\n",
       "      <td>0.267606</td>\n",
       "    </tr>\n",
       "    <tr>\n",
       "      <th>Czech</th>\n",
       "      <td>0.486107</td>\n",
       "      <td>0.457754</td>\n",
       "      <td>0.371002</td>\n",
       "      <td>0.354005</td>\n",
       "    </tr>\n",
       "    <tr>\n",
       "      <th>Danish</th>\n",
       "      <td>0.407881</td>\n",
       "      <td>0.401361</td>\n",
       "      <td>0.233010</td>\n",
       "      <td>0.246154</td>\n",
       "    </tr>\n",
       "    <tr>\n",
       "      <th>English</th>\n",
       "      <td>0.477665</td>\n",
       "      <td>0.438391</td>\n",
       "      <td>0.329310</td>\n",
       "      <td>0.363806</td>\n",
       "    </tr>\n",
       "    <tr>\n",
       "      <th>Finnish</th>\n",
       "      <td>0.391100</td>\n",
       "      <td>0.376749</td>\n",
       "      <td>0.246106</td>\n",
       "      <td>0.289116</td>\n",
       "    </tr>\n",
       "    <tr>\n",
       "      <th>Gothic</th>\n",
       "      <td>0.369090</td>\n",
       "      <td>0.325050</td>\n",
       "      <td>0.311284</td>\n",
       "      <td>0.368421</td>\n",
       "    </tr>\n",
       "    <tr>\n",
       "      <th>Greek</th>\n",
       "      <td>0.443193</td>\n",
       "      <td>0.433289</td>\n",
       "      <td>0.308550</td>\n",
       "      <td>0.333333</td>\n",
       "    </tr>\n",
       "    <tr>\n",
       "      <th>Hebrew</th>\n",
       "      <td>0.508979</td>\n",
       "      <td>0.543077</td>\n",
       "      <td>0.332308</td>\n",
       "      <td>0.466216</td>\n",
       "    </tr>\n",
       "    <tr>\n",
       "      <th>Hindi</th>\n",
       "      <td>0.612025</td>\n",
       "      <td>0.514028</td>\n",
       "      <td>0.379310</td>\n",
       "      <td>0.309896</td>\n",
       "    </tr>\n",
       "    <tr>\n",
       "      <th>Italian</th>\n",
       "      <td>0.576956</td>\n",
       "      <td>0.563877</td>\n",
       "      <td>0.443902</td>\n",
       "      <td>0.482955</td>\n",
       "    </tr>\n",
       "    <tr>\n",
       "      <th>Norwegian</th>\n",
       "      <td>0.545482</td>\n",
       "      <td>0.511590</td>\n",
       "      <td>0.360983</td>\n",
       "      <td>0.376414</td>\n",
       "    </tr>\n",
       "    <tr>\n",
       "      <th>O.C. Slavonic</th>\n",
       "      <td>0.412851</td>\n",
       "      <td>0.378142</td>\n",
       "      <td>0.320856</td>\n",
       "      <td>0.359116</td>\n",
       "    </tr>\n",
       "    <tr>\n",
       "      <th>Persian</th>\n",
       "      <td>0.466040</td>\n",
       "      <td>0.447215</td>\n",
       "      <td>0.312618</td>\n",
       "      <td>0.407115</td>\n",
       "    </tr>\n",
       "    <tr>\n",
       "      <th>Polish</th>\n",
       "      <td>0.590455</td>\n",
       "      <td>0.524721</td>\n",
       "      <td>0.382353</td>\n",
       "      <td>0.435484</td>\n",
       "    </tr>\n",
       "    <tr>\n",
       "      <th>Portuguese</th>\n",
       "      <td>0.468710</td>\n",
       "      <td>0.464169</td>\n",
       "      <td>0.311475</td>\n",
       "      <td>0.324324</td>\n",
       "    </tr>\n",
       "    <tr>\n",
       "      <th>Slovenian</th>\n",
       "      <td>0.409524</td>\n",
       "      <td>0.380392</td>\n",
       "      <td>0.300493</td>\n",
       "      <td>0.332481</td>\n",
       "    </tr>\n",
       "    <tr>\n",
       "      <th>Spanish</th>\n",
       "      <td>0.462995</td>\n",
       "      <td>0.483314</td>\n",
       "      <td>0.295620</td>\n",
       "      <td>0.341270</td>\n",
       "    </tr>\n",
       "    <tr>\n",
       "      <th>Swedish</th>\n",
       "      <td>0.467556</td>\n",
       "      <td>0.450812</td>\n",
       "      <td>0.361520</td>\n",
       "      <td>0.389518</td>\n",
       "    </tr>\n",
       "  </tbody>\n",
       "</table>\n",
       "</div>"
      ],
      "text/plain": [
       "                 C lab.  C unlab.    F lab.  F unlab.\n",
       "Arabic         0.513789  0.563860  0.398017  0.489478\n",
       "Bulgarian      0.552858  0.548533  0.506596  0.559701\n",
       "Croatian       0.474149  0.459615  0.318436  0.267606\n",
       "Czech          0.486107  0.457754  0.371002  0.354005\n",
       "Danish         0.407881  0.401361  0.233010  0.246154\n",
       "English        0.477665  0.438391  0.329310  0.363806\n",
       "Finnish        0.391100  0.376749  0.246106  0.289116\n",
       "Gothic         0.369090  0.325050  0.311284  0.368421\n",
       "Greek          0.443193  0.433289  0.308550  0.333333\n",
       "Hebrew         0.508979  0.543077  0.332308  0.466216\n",
       "Hindi          0.612025  0.514028  0.379310  0.309896\n",
       "Italian        0.576956  0.563877  0.443902  0.482955\n",
       "Norwegian      0.545482  0.511590  0.360983  0.376414\n",
       "O.C. Slavonic  0.412851  0.378142  0.320856  0.359116\n",
       "Persian        0.466040  0.447215  0.312618  0.407115\n",
       "Polish         0.590455  0.524721  0.382353  0.435484\n",
       "Portuguese     0.468710  0.464169  0.311475  0.324324\n",
       "Slovenian      0.409524  0.380392  0.300493  0.332481\n",
       "Spanish        0.462995  0.483314  0.295620  0.341270\n",
       "Swedish        0.467556  0.450812  0.361520  0.389518"
      ]
     },
     "execution_count": 39,
     "metadata": {},
     "output_type": "execute_result"
    }
   ],
   "source": [
    "errors = pd.DataFrame.from_csv('../data/maltdefault.cascading_errors.csv').rename(index={'Old_Church_Slavonic': 'O.C. Slavonic'},\n",
    "                                                                                  columns={'Content labeled': 'C lab.',\n",
    "                                                                                           'Content unlabeled': 'C unlab.',\n",
    "                                                                                           'Function labeled': 'F lab.',\n",
    "                                                                                           'Function unlabeled': 'F unlab.'})\n",
    "with open('../paper/tables/cascading_errors.latex', 'w') as w:\n",
    "    errors.to_latex(w, column_format=\"lrr|rr\", float_format=lambda x: \"{:.2f}\".format(x))\n",
    "errors"
   ]
  }
 ],
 "metadata": {
  "kernelspec": {
   "display_name": "Python 3",
   "language": "python",
   "name": "python3"
  },
  "language_info": {
   "codemirror_mode": {
    "name": "ipython",
    "version": 3
   },
   "file_extension": ".py",
   "mimetype": "text/x-python",
   "name": "python",
   "nbconvert_exporter": "python",
   "pygments_lexer": "ipython3",
   "version": "3.4.3"
  }
 },
 "nbformat": 4,
 "nbformat_minor": 0
}
