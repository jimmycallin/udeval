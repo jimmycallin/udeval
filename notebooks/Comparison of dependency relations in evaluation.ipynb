{
 "cells": [
  {
   "cell_type": "markdown",
   "metadata": {},
   "source": [
    "# Comparison of dependency relations in evaluation"
   ]
  },
  {
   "cell_type": "code",
   "execution_count": 136,
   "metadata": {
    "collapsed": false
   },
   "outputs": [],
   "source": [
    "%matplotlib inline\n",
    "import matplotlib\n",
    "matplotlib.style.use('ggplot')\n",
    "\n",
    "import sys, os\n",
    "sys.path.append(\"../tools/\")\n",
    "import udeval\n",
    "\n",
    "import pandas as pd\n",
    "import seaborn as sns\n",
    "from collections import defaultdict\n",
    "\n",
    "output_path = \"/Users/jimmy/dev/edu/nlp-rod/udeval/resources/baseline-UD/\"\n",
    "\n",
    "core_dependents = (\"nsubj\", \"csubj\", \"nsubjpass\", \"csubjpass\", \"dobj\", \"ccomp\", \"xcomp\", \"iobj\")\n",
    "noun_dependents = (\"nummod\", \"appos\", \"nmod\", \"acl\", \"amod\", \"neg\", \"det\")\n",
    "\n",
    "system_output = {\"en\": \"en-en.all.conll.conllu\",\n",
    "                 \"cs\": \"cs-cs.all.conll.conllu\",\n",
    "                 \"de\": \"de-de.all.conll.conllu\",\n",
    "                 \"en\": \"en-en.all.conll.conllu\",\n",
    "                 \"es\": \"es-es.all.conll.conllu\",\n",
    "                 \"fi\": \"fi-fi.all.conll.conllu\",\n",
    "                 \"fr\": \"fr-fr.all.conll.conllu\",\n",
    "                 \"ga\": \"ga-ga.all.conll.conllu\",\n",
    "                 \"hu\": \"hu-hu.all.conll.conllu\",\n",
    "                 \"it\": \"it-it.all.conll.conllu\",\n",
    "                 \"sv\": \"sv-sv.all.conll.conllu\"}\n",
    "gold_file = {\"en\": \"en-ud-test.conllu\",\n",
    "             \"cs\": \"cs-ud-test.conllu\",\n",
    "             \"de\": \"de-ud-test.conllu\",\n",
    "             \"en\": \"en-ud-test.conllu\",\n",
    "             \"es\": \"es-ud-test.conllu\",\n",
    "             \"fi\": \"fi-ud-test.conllu\",\n",
    "             \"fr\": \"fr-ud-test.conllu\",\n",
    "             \"ga\": \"ga-ud-test.conllu\",\n",
    "             \"hu\": \"hu-ud-test.conllu\",\n",
    "             \"it\": \"it-ud-test.conllu\",\n",
    "             \"sv\": \"sv-ud-test.conllu\"}"
   ]
  },
  {
   "cell_type": "code",
   "execution_count": 70,
   "metadata": {
    "collapsed": false
   },
   "outputs": [],
   "source": [
    "def labeled_attachment_scores():\n",
    "    las = {}\n",
    "    for lang in system_output.keys():\n",
    "        score = udeval.attachment_score(output_path + system_output[lang], output_path + gold_file[lang], labeled=True)\n",
    "        las[lang] = score\n",
    "    return pd.Series(las)\n",
    "        \n",
    "def precision_recall_filter_labels(labels):\n",
    "    prec_recs = {\"precision\": [], \"recall\": []}\n",
    "    index = []\n",
    "    for lang in system_output.keys():\n",
    "        precision, recall = udeval.labels_precision_recall(output_path + system_output[lang], \n",
    "                                                           output_path + gold_file[lang], \n",
    "                                                           labels=labels)\n",
    "        index.append(lang)\n",
    "        prec_recs[\"precision\"].append(precision)\n",
    "        prec_recs[\"recall\"].append(recall)\n",
    "\n",
    "    return pd.DataFrame(prec_recs, index=index).sort_values(\"precision\")"
   ]
  },
  {
   "cell_type": "code",
   "execution_count": 103,
   "metadata": {
    "collapsed": false
   },
   "outputs": [
    {
     "data": {
      "text/html": [
       "<div>\n",
       "<table border=\"1\" class=\"dataframe\">\n",
       "  <thead>\n",
       "    <tr style=\"text-align: right;\">\n",
       "      <th></th>\n",
       "      <th>precision</th>\n",
       "      <th>recall</th>\n",
       "    </tr>\n",
       "  </thead>\n",
       "  <tbody>\n",
       "    <tr>\n",
       "      <th>ga</th>\n",
       "      <td>0.727297</td>\n",
       "      <td>0.727297</td>\n",
       "    </tr>\n",
       "    <tr>\n",
       "      <th>de</th>\n",
       "      <td>0.793907</td>\n",
       "      <td>0.793907</td>\n",
       "    </tr>\n",
       "    <tr>\n",
       "      <th>fr</th>\n",
       "      <td>0.810284</td>\n",
       "      <td>0.810284</td>\n",
       "    </tr>\n",
       "    <tr>\n",
       "      <th>sv</th>\n",
       "      <td>0.826618</td>\n",
       "      <td>0.826618</td>\n",
       "    </tr>\n",
       "    <tr>\n",
       "      <th>hu</th>\n",
       "      <td>0.827090</td>\n",
       "      <td>0.827403</td>\n",
       "    </tr>\n",
       "    <tr>\n",
       "      <th>es</th>\n",
       "      <td>0.840491</td>\n",
       "      <td>0.840491</td>\n",
       "    </tr>\n",
       "    <tr>\n",
       "      <th>fi</th>\n",
       "      <td>0.845077</td>\n",
       "      <td>0.845077</td>\n",
       "    </tr>\n",
       "    <tr>\n",
       "      <th>en</th>\n",
       "      <td>0.856989</td>\n",
       "      <td>0.856989</td>\n",
       "    </tr>\n",
       "    <tr>\n",
       "      <th>cs</th>\n",
       "      <td>0.857360</td>\n",
       "      <td>0.857360</td>\n",
       "    </tr>\n",
       "    <tr>\n",
       "      <th>it</th>\n",
       "      <td>0.895811</td>\n",
       "      <td>0.895811</td>\n",
       "    </tr>\n",
       "  </tbody>\n",
       "</table>\n",
       "</div>"
      ],
      "text/plain": [
       "    precision    recall\n",
       "ga   0.727297  0.727297\n",
       "de   0.793907  0.793907\n",
       "fr   0.810284  0.810284\n",
       "sv   0.826618  0.826618\n",
       "hu   0.827090  0.827403\n",
       "es   0.840491  0.840491\n",
       "fi   0.845077  0.845077\n",
       "en   0.856989  0.856989\n",
       "cs   0.857360  0.857360\n",
       "it   0.895811  0.895811"
      ]
     },
     "execution_count": 103,
     "metadata": {},
     "output_type": "execute_result"
    }
   ],
   "source": [
    "content_relations = (\"acl\", \"advcl\", \"advmod\", \"amod\", \"appos\", \"ccomp\", \"compound\", \"conj\", \"csubj\", \"csubjpass\", \"dislocated\", \"dobj\", \"iobj\", \"list\", \"name\", \"nmod\", \"nsubj\", \"nsubjpass\", \"nummod\", \"parataxis\", \"remnant\", \"root\", \"vocative\", \"xcomp\")\n",
    "function_relations = ('aux', 'auxpass', 'case', 'cc', 'cop', 'det', 'expl', 'mark', 'neg', 'mwe')\n",
    "other_relations = (\"punct\", \"discourse\", \"reparandum\", \"dep\", \"goeswith\", \"foreign\")\n",
    "all_labels = content_relations + function_relations + other_relations\n",
    "all_labels_results = precision_recall_filter_labels(all_labels)\n",
    "all_labels_results"
   ]
  },
  {
   "cell_type": "code",
   "execution_count": 142,
   "metadata": {
    "collapsed": false
   },
   "outputs": [],
   "source": [
    "label_result = dict()\n",
    "for label in all_labels:\n",
    "    label_result[label] = precision_recall_filter_labels([label])"
   ]
  },
  {
   "cell_type": "code",
   "execution_count": 180,
   "metadata": {
    "collapsed": false
   },
   "outputs": [
    {
     "name": "stderr",
     "output_type": "stream",
     "text": [
      "/Users/jimmy/dev/miniconda/lib/python3.4/site-packages/matplotlib/collections.py:590: FutureWarning: elementwise comparison failed; returning scalar instead, but in the future will perform elementwise comparison\n",
      "  if self._edgecolors == str('face'):\n"
     ]
    },
    {
     "data": {
      "image/png": "[encoded data removed]",
      "text/plain": [
       "<matplotlib.figure.Figure at 0x10dc1eb38>"
      ]
     },
     "metadata": {},
     "output_type": "display_data"
    }
   ],
   "source": [
    "dep_entropy = pd.Series.from_csv('../data/crosslingual_dependency_entropy.csv').index\n",
    "sttr = [\"fi\", \"cs\", \"de\", \"hu\", \"fr\", \"es\", \"ga\", \"sv\", \"it\", \"en\"]\n",
    "labels_precision = pd.DataFrame({y:x['precision'] for y,x in label_result.items()}).fillna(0)\n",
    "sns.heatmap(labels_precision.subtract(all_labels_results['precision'], axis=0).ix[sttr][dep_entropy]);"
   ]
  },
  {
   "cell_type": "markdown",
   "metadata": {},
   "source": [
    "It's hard to read any general trends into it. That we have negative results to the left should just mean that rarely used relations are harder to predict. Not too surprising. The more evenly spread out a dependency is between the languages, the more does its result reflect the overall result of the model for that language. punct, cc, nmod are examples of relations that have similar scores as its model (a lot of white).\n",
    "\n",
    "Irish has several classes that strongly bump up the performance more than other classes: det, case, root. \n",
    "\n",
    "## Parsing results difference using manual split\n",
    "\n",
    "We calculate the precision and recall only using the labels classified as content relations. We then subtract the LAS to present how large of an increase (or reduction) in results the label class gets.\n",
    "\n",
    "### Content relations"
   ]
  },
  {
   "cell_type": "code",
   "execution_count": 111,
   "metadata": {
    "collapsed": false
   },
   "outputs": [
    {
     "data": {
      "text/html": [
       "<div>\n",
       "<table border=\"1\" class=\"dataframe\">\n",
       "  <thead>\n",
       "    <tr style=\"text-align: right;\">\n",
       "      <th></th>\n",
       "      <th>precision</th>\n",
       "      <th>recall</th>\n",
       "    </tr>\n",
       "  </thead>\n",
       "  <tbody>\n",
       "    <tr>\n",
       "      <th>ga</th>\n",
       "      <td>0.634270</td>\n",
       "      <td>0.639276</td>\n",
       "    </tr>\n",
       "    <tr>\n",
       "      <th>de</th>\n",
       "      <td>0.744235</td>\n",
       "      <td>0.755051</td>\n",
       "    </tr>\n",
       "    <tr>\n",
       "      <th>fr</th>\n",
       "      <td>0.781991</td>\n",
       "      <td>0.772156</td>\n",
       "    </tr>\n",
       "    <tr>\n",
       "      <th>es</th>\n",
       "      <td>0.787835</td>\n",
       "      <td>0.786304</td>\n",
       "    </tr>\n",
       "    <tr>\n",
       "      <th>sv</th>\n",
       "      <td>0.809207</td>\n",
       "      <td>0.803792</td>\n",
       "    </tr>\n",
       "    <tr>\n",
       "      <th>hu</th>\n",
       "      <td>0.825070</td>\n",
       "      <td>0.824610</td>\n",
       "    </tr>\n",
       "    <tr>\n",
       "      <th>en</th>\n",
       "      <td>0.832778</td>\n",
       "      <td>0.833458</td>\n",
       "    </tr>\n",
       "    <tr>\n",
       "      <th>fi</th>\n",
       "      <td>0.840810</td>\n",
       "      <td>0.838720</td>\n",
       "    </tr>\n",
       "    <tr>\n",
       "      <th>it</th>\n",
       "      <td>0.854021</td>\n",
       "      <td>0.854021</td>\n",
       "    </tr>\n",
       "    <tr>\n",
       "      <th>cs</th>\n",
       "      <td>0.874407</td>\n",
       "      <td>0.846257</td>\n",
       "    </tr>\n",
       "  </tbody>\n",
       "</table>\n",
       "</div>"
      ],
      "text/plain": [
       "    precision    recall\n",
       "ga   0.634270  0.639276\n",
       "de   0.744235  0.755051\n",
       "fr   0.781991  0.772156\n",
       "es   0.787835  0.786304\n",
       "sv   0.809207  0.803792\n",
       "hu   0.825070  0.824610\n",
       "en   0.832778  0.833458\n",
       "fi   0.840810  0.838720\n",
       "it   0.854021  0.854021\n",
       "cs   0.874407  0.846257"
      ]
     },
     "execution_count": 111,
     "metadata": {},
     "output_type": "execute_result"
    }
   ],
   "source": [
    "content_results = precision_recall_filter_labels(content_relations)\n",
    "content_results.sort_values(\"precision\")"
   ]
  },
  {
   "cell_type": "code",
   "execution_count": 106,
   "metadata": {
    "collapsed": false
   },
   "outputs": [
    {
     "data": {
      "image/png": "[encoded data removed]",
      "text/plain": [
       "<matplotlib.figure.Figure at 0x10af01f60>"
      ]
     },
     "metadata": {},
     "output_type": "display_data"
    }
   ],
   "source": [
    "content_results.subtract(all_labels_results, axis=0).sort_values(\"precision\").plot(kind='bar').set_ylim(-0.1, 0.1);"
   ]
  },
  {
   "cell_type": "markdown",
   "metadata": {},
   "source": [
    "### Function relations"
   ]
  },
  {
   "cell_type": "code",
   "execution_count": 112,
   "metadata": {
    "collapsed": false
   },
   "outputs": [
    {
     "data": {
      "text/html": [
       "<div>\n",
       "<table border=\"1\" class=\"dataframe\">\n",
       "  <thead>\n",
       "    <tr style=\"text-align: right;\">\n",
       "      <th></th>\n",
       "      <th>precision</th>\n",
       "      <th>recall</th>\n",
       "    </tr>\n",
       "  </thead>\n",
       "  <tbody>\n",
       "    <tr>\n",
       "      <th>cs</th>\n",
       "      <td>0.833230</td>\n",
       "      <td>0.922424</td>\n",
       "    </tr>\n",
       "    <tr>\n",
       "      <th>ga</th>\n",
       "      <td>0.866348</td>\n",
       "      <td>0.857480</td>\n",
       "    </tr>\n",
       "    <tr>\n",
       "      <th>sv</th>\n",
       "      <td>0.880820</td>\n",
       "      <td>0.892445</td>\n",
       "    </tr>\n",
       "    <tr>\n",
       "      <th>fi</th>\n",
       "      <td>0.882876</td>\n",
       "      <td>0.893473</td>\n",
       "    </tr>\n",
       "    <tr>\n",
       "      <th>fr</th>\n",
       "      <td>0.883630</td>\n",
       "      <td>0.893808</td>\n",
       "    </tr>\n",
       "    <tr>\n",
       "      <th>hu</th>\n",
       "      <td>0.890435</td>\n",
       "      <td>0.893543</td>\n",
       "    </tr>\n",
       "    <tr>\n",
       "      <th>de</th>\n",
       "      <td>0.910889</td>\n",
       "      <td>0.890418</td>\n",
       "    </tr>\n",
       "    <tr>\n",
       "      <th>es</th>\n",
       "      <td>0.929606</td>\n",
       "      <td>0.932036</td>\n",
       "    </tr>\n",
       "    <tr>\n",
       "      <th>en</th>\n",
       "      <td>0.937604</td>\n",
       "      <td>0.932539</td>\n",
       "    </tr>\n",
       "    <tr>\n",
       "      <th>it</th>\n",
       "      <td>0.966487</td>\n",
       "      <td>0.967197</td>\n",
       "    </tr>\n",
       "  </tbody>\n",
       "</table>\n",
       "</div>"
      ],
      "text/plain": [
       "    precision    recall\n",
       "cs   0.833230  0.922424\n",
       "ga   0.866348  0.857480\n",
       "sv   0.880820  0.892445\n",
       "fi   0.882876  0.893473\n",
       "fr   0.883630  0.893808\n",
       "hu   0.890435  0.893543\n",
       "de   0.910889  0.890418\n",
       "es   0.929606  0.932036\n",
       "en   0.937604  0.932539\n",
       "it   0.966487  0.967197"
      ]
     },
     "execution_count": 112,
     "metadata": {},
     "output_type": "execute_result"
    }
   ],
   "source": [
    "function_results = precision_recall_filter_labels(function_relations)\n",
    "function_results.sort_values(\"precision\")"
   ]
  },
  {
   "cell_type": "code",
   "execution_count": 114,
   "metadata": {
    "collapsed": false
   },
   "outputs": [
    {
     "data": {
      "image/png": "[encoded data removed]",
      "text/plain": [
       "<matplotlib.figure.Figure at 0x10aa2a8d0>"
      ]
     },
     "metadata": {},
     "output_type": "display_data"
    }
   ],
   "source": [
    "function_results.subtract(all_labels_results, axis=0).sort_values(\"precision\").plot(kind='bar').set_ylim(-0.1, 0.2);"
   ]
  },
  {
   "cell_type": "markdown",
   "metadata": {},
   "source": [
    "## Conclusion\n",
    "\n",
    "It is easier for all languages to parse function dependencies than it is to parse content dependencies, with the exception of Czech. For Irish and German, the results are noticably higher. English is not as far to the right as we would have liked."
   ]
  },
  {
   "cell_type": "markdown",
   "metadata": {},
   "source": [
    "## Other classes"
   ]
  },
  {
   "cell_type": "code",
   "execution_count": 120,
   "metadata": {
    "collapsed": false
   },
   "outputs": [
    {
     "data": {
      "text/html": [
       "<div>\n",
       "<table border=\"1\" class=\"dataframe\">\n",
       "  <thead>\n",
       "    <tr style=\"text-align: right;\">\n",
       "      <th></th>\n",
       "      <th>precision</th>\n",
       "      <th>recall</th>\n",
       "    </tr>\n",
       "  </thead>\n",
       "  <tbody>\n",
       "    <tr>\n",
       "      <th>ga</th>\n",
       "      <td>0.605740</td>\n",
       "      <td>0.657377</td>\n",
       "    </tr>\n",
       "    <tr>\n",
       "      <th>de</th>\n",
       "      <td>0.686353</td>\n",
       "      <td>0.728741</td>\n",
       "    </tr>\n",
       "    <tr>\n",
       "      <th>es</th>\n",
       "      <td>0.820513</td>\n",
       "      <td>0.829511</td>\n",
       "    </tr>\n",
       "    <tr>\n",
       "      <th>hu</th>\n",
       "      <td>0.825959</td>\n",
       "      <td>0.828402</td>\n",
       "    </tr>\n",
       "    <tr>\n",
       "      <th>fr</th>\n",
       "      <td>0.833713</td>\n",
       "      <td>0.834664</td>\n",
       "    </tr>\n",
       "    <tr>\n",
       "      <th>sv</th>\n",
       "      <td>0.834365</td>\n",
       "      <td>0.822487</td>\n",
       "    </tr>\n",
       "    <tr>\n",
       "      <th>it</th>\n",
       "      <td>0.840956</td>\n",
       "      <td>0.828045</td>\n",
       "    </tr>\n",
       "    <tr>\n",
       "      <th>fi</th>\n",
       "      <td>0.864776</td>\n",
       "      <td>0.845806</td>\n",
       "    </tr>\n",
       "    <tr>\n",
       "      <th>cs</th>\n",
       "      <td>0.883905</td>\n",
       "      <td>0.889394</td>\n",
       "    </tr>\n",
       "    <tr>\n",
       "      <th>en</th>\n",
       "      <td>0.901451</td>\n",
       "      <td>0.893263</td>\n",
       "    </tr>\n",
       "  </tbody>\n",
       "</table>\n",
       "</div>"
      ],
      "text/plain": [
       "    precision    recall\n",
       "ga   0.605740  0.657377\n",
       "de   0.686353  0.728741\n",
       "es   0.820513  0.829511\n",
       "hu   0.825959  0.828402\n",
       "fr   0.833713  0.834664\n",
       "sv   0.834365  0.822487\n",
       "it   0.840956  0.828045\n",
       "fi   0.864776  0.845806\n",
       "cs   0.883905  0.889394\n",
       "en   0.901451  0.893263"
      ]
     },
     "execution_count": 120,
     "metadata": {},
     "output_type": "execute_result"
    }
   ],
   "source": [
    "core_dependents = (\"nsubj\", \"csubj\", \"nsubjpass\", \"csubjpass\", \"dobj\", \"ccomp\", \"xcomp\", \"iobj\")\n",
    "core_dependent_result = precision_recall_filter_labels(core_dependents)\n",
    "core_dependent_result"
   ]
  },
  {
   "cell_type": "code",
   "execution_count": 119,
   "metadata": {
    "collapsed": false
   },
   "outputs": [
    {
     "data": {
      "image/png": "[encoded data removed]",
      "text/plain": [
       "<matplotlib.figure.Figure at 0x10ac17940>"
      ]
     },
     "metadata": {},
     "output_type": "display_data"
    }
   ],
   "source": [
    "core_dependent_result.subtract(all_labels_results, axis=0).sort_values(\"precision\").plot(kind='bar').set_ylim(-0.15, 0.1);"
   ]
  },
  {
   "cell_type": "code",
   "execution_count": 128,
   "metadata": {
    "collapsed": false
   },
   "outputs": [
    {
     "data": {
      "text/html": [
       "<div>\n",
       "<table border=\"1\" class=\"dataframe\">\n",
       "  <thead>\n",
       "    <tr style=\"text-align: right;\">\n",
       "      <th></th>\n",
       "      <th>precision</th>\n",
       "      <th>recall</th>\n",
       "    </tr>\n",
       "  </thead>\n",
       "  <tbody>\n",
       "    <tr>\n",
       "      <th>ga</th>\n",
       "      <td>0.641582</td>\n",
       "      <td>0.618696</td>\n",
       "    </tr>\n",
       "    <tr>\n",
       "      <th>de</th>\n",
       "      <td>0.775851</td>\n",
       "      <td>0.767228</td>\n",
       "    </tr>\n",
       "    <tr>\n",
       "      <th>fr</th>\n",
       "      <td>0.805469</td>\n",
       "      <td>0.768228</td>\n",
       "    </tr>\n",
       "    <tr>\n",
       "      <th>es</th>\n",
       "      <td>0.821925</td>\n",
       "      <td>0.805934</td>\n",
       "    </tr>\n",
       "    <tr>\n",
       "      <th>sv</th>\n",
       "      <td>0.827488</td>\n",
       "      <td>0.818565</td>\n",
       "    </tr>\n",
       "    <tr>\n",
       "      <th>en</th>\n",
       "      <td>0.828516</td>\n",
       "      <td>0.812738</td>\n",
       "    </tr>\n",
       "    <tr>\n",
       "      <th>hu</th>\n",
       "      <td>0.851270</td>\n",
       "      <td>0.823392</td>\n",
       "    </tr>\n",
       "    <tr>\n",
       "      <th>fi</th>\n",
       "      <td>0.858288</td>\n",
       "      <td>0.850849</td>\n",
       "    </tr>\n",
       "    <tr>\n",
       "      <th>it</th>\n",
       "      <td>0.865707</td>\n",
       "      <td>0.869429</td>\n",
       "    </tr>\n",
       "    <tr>\n",
       "      <th>cs</th>\n",
       "      <td>0.886940</td>\n",
       "      <td>0.828754</td>\n",
       "    </tr>\n",
       "  </tbody>\n",
       "</table>\n",
       "</div>"
      ],
      "text/plain": [
       "    precision    recall\n",
       "ga   0.641582  0.618696\n",
       "de   0.775851  0.767228\n",
       "fr   0.805469  0.768228\n",
       "es   0.821925  0.805934\n",
       "sv   0.827488  0.818565\n",
       "en   0.828516  0.812738\n",
       "hu   0.851270  0.823392\n",
       "fi   0.858288  0.850849\n",
       "it   0.865707  0.869429\n",
       "cs   0.886940  0.828754"
      ]
     },
     "execution_count": 128,
     "metadata": {},
     "output_type": "execute_result"
    }
   ],
   "source": [
    "noun_dependents = (\"nummod\", \"appos\", \"nmod\", \"acl\", \"amod\", \"neg\")  # \"det\" removed\n",
    "noun_dependents_result = precision_recall_filter_labels(noun_dependents)\n",
    "noun_dependents_result"
   ]
  },
  {
   "cell_type": "code",
   "execution_count": 129,
   "metadata": {
    "collapsed": false
   },
   "outputs": [
    {
     "data": {
      "image/png": "[encoded data removed]",
      "text/plain": [
       "<matplotlib.figure.Figure at 0x10ac401d0>"
      ]
     },
     "metadata": {},
     "output_type": "display_data"
    }
   ],
   "source": [
    "noun_dependents_result.subtract(all_labels_results, axis=0).sort_values(\"precision\").plot(kind='bar').set_ylim(-0.1, 0.1);"
   ]
  }
 ],
 "metadata": {
  "kernelspec": {
   "display_name": "Python 3",
   "language": "python",
   "name": "python3"
  },
  "language_info": {
   "codemirror_mode": {
    "name": "ipython",
    "version": 3
   },
   "file_extension": ".py",
   "mimetype": "text/x-python",
   "name": "python",
   "nbconvert_exporter": "python",
   "pygments_lexer": "ipython3",
   "version": "3.4.3"
  }
 },
 "nbformat": 4,
 "nbformat_minor": 0
}
